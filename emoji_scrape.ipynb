{
 "cells": [
  {
   "cell_type": "code",
   "execution_count": null,
   "metadata": {},
   "outputs": [],
   "source": [
    "URL_NYC = \"./sources/scrape_test.txt\"\n",
    "\n"
   ]
  },
  {
   "cell_type": "code",
   "execution_count": null,
   "metadata": {},
   "outputs": [],
   "source": [
    "with open('./sources/scrape_test.txt', encoding = 'utf-16') as myfile:\n",
    "    data = myfile.read()\n",
    "    # data is original html to string\n",
    "    # data2 is key_emojis and html page as a string\n",
    "    # data3 is data2 but key_emojis are strings begining and ending with colons"
   ]
  },
  {
   "cell_type": "code",
   "execution_count": null,
   "metadata": {},
   "outputs": [],
   "source": [
    "# data"
   ]
  },
  {
   "cell_type": "code",
   "execution_count": null,
   "metadata": {},
   "outputs": [],
   "source": [
    "import emoji\n",
    "\n",
    "def extract_emoji(data):\n",
    "    return ''.join(c for c in data if c in emoji.UNICODE_EMOJI)\n",
    "\n",
    "extract_emoji(data)"
   ]
  },
  {
   "cell_type": "code",
   "execution_count": 5,
   "metadata": {},
   "outputs": [
    {
     "data": {
      "text/plain": [
       "'👑🌸🌸🌸🌸🌸🌸🌹🌹🌹🌹🌹🌹💛💛💛💛💛💛💛💛💛💛💛💛🌹🌹🌹🌹🌹🌹✈🍒🍒💛💛💛💛💛🍒🍒🍒🍒🌸🌸✈💗💗🍒🍒🌹🌹✈👑🍒🍒💛💛💛💛💛🍒🍒🍒💛💛💛💛💛💛👑🍒🍒✈💛💛💛💛💛💛🍒🍒🍒🌹🌹✈👑🍒🍒🍒🍒🍒💗💗💗💛💛💛💛💛💛✈👑🍒🍒🍒🍒🍒🍒💗💗💛💛💛💛💛💛💛💛💛💛💛💛🍒🍒🍒🍒🍒🌸🌸🌸🌸🌸🌸🌹🌹🌹🌹🌹🌹💛💛💛💛💛💛💛💛💛💛💛💛💛💛💛🌹🌹🌹🌹🌹🌹'"
      ]
     },
     "execution_count": 5,
     "metadata": {},
     "output_type": "execute_result"
    }
   ],
   "source": [
    "import emoji\n",
    "emoji_list = ['🍒','🌸','✈','🛬','🌹','🏵','👑', '💛','💗']\n",
    "def extract_emoji(data):\n",
    "    return ''.join(c for c in data if c in emoji_list)\n",
    "\n",
    "extract_emoji(data)"
   ]
  },
  {
   "cell_type": "code",
   "execution_count": 6,
   "metadata": {},
   "outputs": [],
   "source": [
    "def extract_useless_emoji(data) :\n",
    "    #for i in data:\n",
    "        #if data[i] is in emoji.UNICODE_EMOJI && if data[i] not in emoji_list\n",
    "    return ''.join(c for c in data if c in emoji.UNICODE_EMOJI and c not in emoji_list)"
   ]
  },
  {
   "cell_type": "code",
   "execution_count": 7,
   "metadata": {},
   "outputs": [],
   "source": [
    "to_strip = extract_useless_emoji(data)"
   ]
  },
  {
   "cell_type": "code",
   "execution_count": 8,
   "metadata": {},
   "outputs": [],
   "source": [
    "# for i in data:\n",
    "#     if data[i] is in emoji.UNICODE_EMOJI && if data[i] != emoji_list"
   ]
  },
  {
   "cell_type": "code",
   "execution_count": 15,
   "metadata": {},
   "outputs": [],
   "source": [
    "from bs4 import BeautifulSoup\n",
    "tile = open(URL_NYC, encoding='utf-16')\n",
    "\n",
    "soup = BeautifulSoup(tile)\n",
    "\n",
    "mydivs = soup.findAll(\"div\", {\"class\": lambda L:L and L.startswith('cat ad-')})"
   ]
  },
  {
   "cell_type": "code",
   "execution_count": 26,
   "metadata": {},
   "outputs": [
    {
     "name": "stdout",
     "output_type": "stream",
     "text": [
      "<div class=\"cat ad-6313350\">\n",
      "<a onclick=\"return displaypost(6313350)\"><img src=\"https://www.bedpage.com/assets/images/bn2.png\"/>\n",
      "</a><a href=\"https://new-york.bedpage.com/backpage.com/TherapeuticMassage/white-plains-ny-usa/6313350\" target=\"_blank\"> \n",
      "\t\t\t\t\t\t\t\t\n",
      "\t\t\t\t\t\t\t\tSEXY 🌺busty blonde🌺 34 DD✨🌺 NATURAL🌺 SENSUAL 🔥🍒very🍒🔥 RELAXING 🔥bodywork 🌺646_687_6342,🌺<b> - (White Plains, NY, USA )</b>\n",
      "</a>\n",
      "</div>\n"
     ]
    }
   ],
   "source": [
    "print(mydivs[7])\n",
    "\n"
   ]
  },
  {
   "cell_type": "code",
   "execution_count": 28,
   "metadata": {},
   "outputs": [],
   "source": [
    "tile1 = mydivs[0]"
   ]
  },
  {
   "cell_type": "code",
   "execution_count": 32,
   "metadata": {},
   "outputs": [
    {
     "name": "stdout",
     "output_type": "stream",
     "text": [
      "<div class=\"cat ad-6165063\">\n",
      "<a onclick=\"return displaypost(6165063)\"><img src=\"https://www.bedpage.com/assets/images/bn2.png\"/>\n",
      "</a><a href=\"https://new-york.bedpage.com/backpage.com/TherapeuticMassage/queens-ny-usa/6165063\" target=\"_blank\"> \n",
      "\t\t\t\t\t\t\t\t\n",
      "\t\t\t\t\t\t\t\tOPEN 10AM - Midnight.....?⭐️..NEW ..⭐️?............... .call ♥️ @ 646-255-5931 ❤️ ..........Nice Body Work from NEW GIRLS..........100<b> - (Queens, NY, USA )</b>\n",
      "</a>\n",
      "</div>\n"
     ]
    }
   ],
   "source": [
    "print(tile1)"
   ]
  },
  {
   "cell_type": "code",
   "execution_count": 63,
   "metadata": {},
   "outputs": [
    {
     "name": "stdout",
     "output_type": "stream",
     "text": [
      "['6165063', '6313445', '6313432', '6313419', '6313394', '6301300', '6242030', '6313350', '6267230', '6313274', '6313273', '6239080', '6295326', '6228894', '6313114', '6298906', '6312863', '6312703', '6312682', '6304375', '6243950', '6312561', '6312463', '6312372', '6312209', '6312183', '6299129', '6312169', '6312153', '6312023', '6293088', '6298918', '6305921', '6249899', '6309549', '6311942', '6234914', '6295370', '6295455', '6243933', '6311880', '6264532', '6311870', '6301088', '6309062', '6311694', '6311592', '6311487', '6311440', '6297852', '6311351', '6200813', '6311278', '6311054', '6311011', '6310998', '6310874', '6308385', '6249518', '6310809', '6310800', '6310757', '6310712', '6301315', '6310669', '6243970', '6309506', '6309584', '6309516', '6310601', '6310577', '6310576', '6265593', '6310488', '6310429', '6310202', '6310187', '6310166', '6310004', '6281541', '6309926', '6309841', '6309789', '6309741', '6309366', '6299534', '6309711', '6309690', '6309683', '6309676', '6237343', '6309517', '6309483', '6309470', '6309468', '6309431', '6281148', '6190261', '6309331', '6297713', '6309231', '6309114', '6309020', '6309034', '6308976', '6308957', '6308887', '6308568', '6308508', '6308462', '6241546', '6308376', '6308357', '6308326', '6308304', '6308287', '6202605', '6308187', '6307972', '6307920', '6307869', '6307721', '6307645', '6307620', '6307525', '6307358', '6307287', '6307234', '6307230', '6307229', '6307224', '6307188', '6307187', '6239173', '6307171', '6307160', '6307151', '6307014', '6243866', '6306708', '6306616', '6306506', '6306407', '6306343', '6306275', '6306244', '6306144', '6295338', '6247139', '6306105', '6294343', '6306069', '6306039', '6305974', '6305950', '6305922', '6305746', '6305562', '6215243', '6305276', '6305140', '6304939', '6304931', '6304912', '6304811', '6304804', '6304782', '6304776', '6304501', '6304381', '6304172', '6304162', '6304154', '6304090', '6303946', '6303940', '6303916', '6163071']\n"
     ]
    }
   ],
   "source": [
    "id_array = []\n",
    "j=0\n",
    "for i in mydivs:\n",
    "    temp = str(mydivs[j])\n",
    "    id_array.append(temp[19:26])\n",
    "    j+=1\n",
    "print(id_array)"
   ]
  },
  {
   "cell_type": "code",
   "execution_count": null,
   "metadata": {},
   "outputs": [],
   "source": [
    "data2 = ''\n",
    "for c in data :\n",
    "    if c in emoji.UNICODE_EMOJI and c not in emoji_list:\n",
    "        data2 += data.strip(c)"
   ]
  },
  {
   "cell_type": "code",
   "execution_count": null,
   "metadata": {},
   "outputs": [],
   "source": [
    "print(data2)"
   ]
  },
  {
   "cell_type": "code",
   "execution_count": null,
   "metadata": {},
   "outputs": [],
   "source": []
  },
  {
   "cell_type": "code",
   "execution_count": null,
   "metadata": {},
   "outputs": [],
   "source": []
  },
  {
   "cell_type": "code",
   "execution_count": null,
   "metadata": {},
   "outputs": [],
   "source": []
  },
  {
   "cell_type": "code",
   "execution_count": null,
   "metadata": {},
   "outputs": [],
   "source": []
  },
  {
   "cell_type": "code",
   "execution_count": null,
   "metadata": {},
   "outputs": [],
   "source": []
  },
  {
   "cell_type": "code",
   "execution_count": null,
   "metadata": {},
   "outputs": [],
   "source": []
  },
  {
   "cell_type": "code",
   "execution_count": null,
   "metadata": {},
   "outputs": [],
   "source": []
  },
  {
   "cell_type": "code",
   "execution_count": null,
   "metadata": {},
   "outputs": [],
   "source": []
  },
  {
   "cell_type": "code",
   "execution_count": null,
   "metadata": {},
   "outputs": [],
   "source": []
  },
  {
   "cell_type": "code",
   "execution_count": null,
   "metadata": {},
   "outputs": [],
   "source": [
    "# # scrape = open(URL_NYC, encoding='utf-16')\n",
    "# print (scrape)"
   ]
  },
  {
   "cell_type": "code",
   "execution_count": null,
   "metadata": {},
   "outputs": [],
   "source": [
    "# from bs4 import BeautifulSoup\n",
    "# scrape = open(URL_NYC, encoding='utf-16')\n",
    "\n",
    "# soup = BeautifulSoup(scrape)"
   ]
  },
  {
   "cell_type": "code",
   "execution_count": null,
   "metadata": {},
   "outputs": [],
   "source": [
    "# import emoji\n",
    "\n",
    "# def extract_emoji(str):\n",
    "#     return ''.join(c for c in str if c in emoji.UNICODE_EMOJI)\n",
    "\n",
    "# extract_emoji('🍒')"
   ]
  },
  {
   "cell_type": "code",
   "execution_count": null,
   "metadata": {},
   "outputs": [],
   "source": []
  },
  {
   "cell_type": "code",
   "execution_count": null,
   "metadata": {},
   "outputs": [],
   "source": []
  },
  {
   "cell_type": "code",
   "execution_count": null,
   "metadata": {},
   "outputs": [],
   "source": []
  },
  {
   "cell_type": "code",
   "execution_count": null,
   "metadata": {},
   "outputs": [],
   "source": []
  },
  {
   "cell_type": "code",
   "execution_count": null,
   "metadata": {},
   "outputs": [],
   "source": []
  },
  {
   "cell_type": "code",
   "execution_count": null,
   "metadata": {},
   "outputs": [],
   "source": []
  },
  {
   "cell_type": "code",
   "execution_count": null,
   "metadata": {},
   "outputs": [],
   "source": []
  },
  {
   "cell_type": "code",
   "execution_count": null,
   "metadata": {},
   "outputs": [],
   "source": []
  },
  {
   "cell_type": "code",
   "execution_count": null,
   "metadata": {},
   "outputs": [],
   "source": []
  },
  {
   "cell_type": "code",
   "execution_count": null,
   "metadata": {},
   "outputs": [],
   "source": [
    "\n",
    "    "
   ]
  },
  {
   "cell_type": "code",
   "execution_count": null,
   "metadata": {},
   "outputs": [],
   "source": []
  },
  {
   "cell_type": "code",
   "execution_count": null,
   "metadata": {},
   "outputs": [],
   "source": []
  }
 ],
 "metadata": {
  "kernelspec": {
   "display_name": "Python 3",
   "language": "python",
   "name": "python3"
  },
  "language_info": {
   "codemirror_mode": {
    "name": "ipython",
    "version": 3
   },
   "file_extension": ".py",
   "mimetype": "text/x-python",
   "name": "python",
   "nbconvert_exporter": "python",
   "pygments_lexer": "ipython3",
   "version": "3.7.0"
  }
 },
 "nbformat": 4,
 "nbformat_minor": 2
}
