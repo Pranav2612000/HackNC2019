{
 "cells": [
  {
   "cell_type": "markdown",
   "metadata": {},
   "source": [
    "# Emoji Scrape\n",
    "- Sift through HTML page data as txt file to convert it to readable datasets for CSVs"
   ]
  },
  {
   "cell_type": "code",
   "execution_count": 1,
   "metadata": {},
   "outputs": [],
   "source": [
    "URL_NYC = \"./sources/scrape_test.txt\"\n",
    "\n"
   ]
  },
  {
   "cell_type": "code",
   "execution_count": 2,
   "metadata": {},
   "outputs": [],
   "source": [
    "with open('./sources/scrape_test.txt', encoding = 'utf-16') as myfile:\n",
    "    data = myfile.read()\n",
    "    # data is original html to string\n",
    "    # data2 is key_emojis and html page as a string\n",
    "    # data3 is data2 but key_emojis are strings begining and ending with colons"
   ]
  },
  {
   "cell_type": "markdown",
   "metadata": {},
   "source": [
    "## Extracting Emojis from HTML page\n",
    "- used emoji.UNICODE_EMOJI to extract emojis using for loop to go thru entire HTML page"
   ]
  },
  {
   "cell_type": "code",
   "execution_count": 3,
   "metadata": {
    "scrolled": true
   },
   "outputs": [
    {
     "data": {
      "text/plain": [
       "'⭐⭐💋💦😛👑😏🤩💋📲💋❤💋❤👗🌺🌺✨🌺🌺☯🌻🍀🌻🍀🌻🔥🔥🎈🎈❤❤❤❤❤❤❤❤❤❤❤❤🌺🌺🔥🌺🌺🌺🔥🌺🌺🌺🌺🔥🌺🌺🌺🔥🔥🔥🔥🌺🔥❌⭕❌⭕❌⭕☎⭕❌⭕❌⭕❌⭕❌⭕❌⭕💋❤💋❤💋❤💋❤💋❤💋❤💋❤💋❤💋❤💋❤👗🎀🌠👗🎀🌠👗🎀🌠🌻🍀🌻🍀🌻💋🌻🍀🌻🍀🌻💋🌻🍀🌻🍀🌻💋🔥🔥🔥🔥🔥🔥🔥🔥🔥🔥🔥🔥🔥🔥💐🌸🌸💐💐🌸🌸💐💐🌸🌸💐💞💞💞💞💞💞💞💞💞💞💞💞💞💞💞💞💞💞💞💞💞💞💞💞💞💞💞💞💞💞💞💞💞💞💞💞💞💞💞💞💞💞❤❤❤💋❤❤❤❤❤💋❤❤❤❤❤💋❤❤❤❤❤💋❤❤❤❤❤💋❤❤❤❤❤💋❤❤❤❤❤💋❤❤🌹🌹🌹🌹💓🌹🌹💓❤❤❤❤❤❤❤🎁🎁🎁🎁🎁🎁👍🔴🔴🔴🔴🔴🔴🔴🔴🔴🔴🎁🎁🎁👍🔴🔴🔴🔴🔴🔴🔴🔴🔴🔴❤🖤💛💚🧡🖤❤💛🧡💚🖤❤💛🧡💚❤🖤💛💚🧡🖤❤💛🧡💚🖤❤💛🧡💚❤🖤💛💚🧡🖤❤💛🧡💚🖤❤💛🧡💚❤🖤💛💚🧡🖤❤💛🧡💚🖤❤💛🧡💚💦💦👅😘💦💦👅😘💦💦👅😘🌹🌹🌹🌹💓🌹🌹💓❤❤❤❤❤❤❤📸📽💲🔴🔴💲🎥🎬📸📽💲🔴🔴💲🎥🎬🌐❌❌❌📸📽💲🔴🔴💲🎥🎬🌐❌❌❌❌⭕❌⭕❌⭕☎⭕❌⭕❌⭕❌⭐⭐♥❤💋💦😜😜❤✈❣😉💋❤💋❤👗🎀🌠🌺🌺✨🌺🌺🔥🍒🍒🔥🔥🌺🌺☯☯🌻🍀🌻🍀🌻💋🍀✴❤🚺💛✴❤🚺💛💛💛💛✴❤❤🚺👙💋💦🍒🍒🍒❤❤❤❤❤❤❤❤💆♂💦🍆🌺✨🌺🍒✨🔥🔥💐🌸🌸💐❤✨❤✨✨❤✨✨❤💞💞💞💞💞💞💞💞💞💞💋💦😜😜❤✈❣😉😜💦👅🍌💦💦😻💦👀💋💦⭐🅾🅰🅿🔥🔯✨✨💟🎀🔯💟💟✨🔯💟💟👍👍👙💋💦❣💖💗💖💗❣💥❣💥❣💖💖💖☎👙💋💦💞💞💞💞💞💞❤❤❤💋❤❤🍎🍎🍎♻♻🍎🍎🍎♻♻🍎🍎🍎♻♻🍎💆♂💆♂💆♂🤗🍒🍒❤✨❤✨✨❤✨✨❤❤❤❤❤❤❤❤❤🌹🌹💓💆♂💦🍆💞💞💞💞💞💞💞💞💞💞❤🍎🍎🍎♻♻🍎🍎🍎♻♻🍎🍎🍎♻♻🍎😜💦👅🍌💦💦😻💦👀💋💦👍👙💋💦💋💦😜😜❤✈❣😉👑🍒🍓✨💎💯💎👀🍭🍬🍭💯🍒🍓💫🔯✨✨💟🎀🔯💟💟✨🔯💟💟👠💲💲❤🍀✴❤🚺💛✴❤🚺💛💛💛✴❤❤🚺🎈🎈🎁🎁🎁👍🔴❤🖤💛💚🧡🖤💆♂💦🍆😘😘💦💦💦💦👀💋💋👅💋🌻🍀🌻🍀🌻💋💆♂💦🍆🍒🍓💆♂❤✨❤✨✨❤✨✨❤💆♂💆♂💆♂🤗🍒🍒💞💞💞💞💞💞💞💞💞💞❤❤❤❤❤❤❤❤❤❤❤❤❤❤❤❤❤❤❤❤❤❤❤❤❤🍎🍎🍎♻♻🍎🍎🍎♻♻🍎🍎🍎♻♻🍎🔯🎀🔯✨✨💟🎀🔯💟💟✨🔯🎀🔯💟💟🔯✨✨💟🍀✴❤🚺💛✴❤🚺💛💛💛✴❤✴❤❤🚺💛💛✴👑🍒🍓✨💎💯💎👀🍭🍬🍭💯🍒🍓💫💋💦😜😜❤✈❣😉💦💦👅😘⭐🅾🅰🅿🔥🍀✴❤🚺💛✴❤🚺💛💛💛✴❤🚺💛💛✴❤❤🚺❤🚺💞💞💞💞💞💞💞💞💞💞❤✨❤✨✨❤✨✨❤🔥🔥🍒🍓💆♂💆♂💆♂🤗🍒🍒💆♂🌹🌹💓❤🍎🍎🍎♻♻🍎🍎🍎♻♻🍎🍎🍎♻♻🍎👙💋💦🌺🌺🔥🌺🌺🌺🔥🌺🌺🌺🌺🔥🌺🌺🌺🔥🔥🔥🔥🌺🔥💋💦😜😜❤✈❣😉👑🍒🍓✨💎💯💎👀🍭🍬🍭💯🍒🍓💫👠💲💲❤✨❤✨✨❤✨✨❤✨✨🦄🌈🌈💦✨✨🦄☎🌺✨💓✨🌺💆♂💆♂💆♂🤗🍒🍒🦋🦋🦋🦋🦋🦋🦋🦋🦋💦💆♂🍒🍓🔥🔥💆♂❣❣❣💖💗💖💗💖💗❣💖💖💖💖☎🔯🎀🔯✨✨💟🎀🔯💟💟✨🔯🎀🔯💟💟🔯✨✨💟🍀✴❤🚺💛✴❤🚺💛💛💛✴❤🚺💛💛✴❤❤🚺❤🚺🔥🔴🔥🔥🔴🔥🔴🔥🔴🔥🔴💜💙💚❤💜💙🔥🔥🔥🔥❌⭕❌⭕❌⭕☎⭕❌⭕❌⭕❌⭕❌⭕❌⭕💋💦😜😜❤✈❣😉👑🍒🍓✨💎💯💎👀🍭🍬🍭💯🍒🍓💫😘😘💦💦👀👅⭐🅾🅰🅿🔥🔥🔴🔥🔥🔴🔥🔴🔥🔴🔥🔴💜💙💚❤💜💙🔥🔥🔥🔥❤💆♂💆♂💆♂🤗🍒🍒🦋🦋🦋🦋🦋🦋🦋🦋🦋💦🍒🍓🔥🔥💆♂💞💞💞💞💞💞💞💞💞💞💆♂🍒🍓💆♂💖💗💖💗❣💥💥❣💖💖💖💥💥💥💥💖💖💖☎☎🍀✴❤🚺💛✴❤🚺💛💛💛✴❤🚺💛💛✴❤❤🚺❤🚺🔥🔴🔥🔥🔴🔥🔴🔥🔴🔥🔴💜💙💚❤💜💙🔥🔥🔥🔥🔥🔥💆♂🦋🦋🦋🦋🦋🦋🦋🦋🦋💦💞💞💞💞💞💞💞💞💞💞✋👀🔍💋☑☝👅☑👍💕☑🔥☑☑👠💲💲📸📽💲🔴🔴💲🎥🎬🌐❌❌❌🍀✴❤🚺💛✴❤🚺💛💛💛✴❤🚺💛💛✴❤❤🚺❤🚺🌺✨🌺🍒🦋🦋🦋🦋🦋🦋🦋🦋🦋💦❤❤❤❤❤❤❤❤❤❤❤❤❤🍒🌺✨🍒🌺✨🌺🍒🍒✨❣💆♂🍀🔥🍀🍀🔥🔥⭐⭐⭐💞💞💞💞💞💞💞💞💞💞❌⭕❌⭕❌⭕☎⭕❌⭕❌⭕❌⭕❌⭕❌⭕💋❤💋❤💋❤💋❤💋❤💋❤💋❤💋❤💋❤💋❤👗🎀🌠👗🎀🌠👗🎀🌠🌻🍀🌻🍀🌻💋🌻🍀🌻🍀🌻💋🌻🍀🌻🍀🌻💋🔥🔥🔥🔥🔥🔥🔥🔥🔥🔥🔥🔥🔥🔥💐🌸🌸💐💐🌸🌸💐💐🌸🌸💐💞💞💞💞💞💞💞💞💞💞💞💞💞💞💞💞💞💞💞💞💞💞💞💞💞💞💞💞💞💞💞💞💞💞💞💞💞💞💞💞💞💞❤❤❤💋❤❤❤❤❤💋❤❤❤❤❤💋❤❤❤❤❤💋❤❤❤❤❤💋❤❤❤❤❤💋❤❤❤❤❤💋❤❤🌹🌹💓🌹🌹💓🌹🌹💓❤❤❤❤❤❤❤🎁🎁🎁👍🔴🔴🔴🔴🔴🔴🔴🔴🔴🔴🎁🎁🎁👍🔴🔴🔴🔴🔴🔴🔴🔴🔴🔴🎁🎁🎁👍🔴🔴🔴🔴🔴🔴🔴🔴🔴🔴❤🖤💛💚🧡🖤❤💛🧡💚🖤❤💛🧡💚❤🖤💛💚🧡🖤❤💛🧡💚🖤❤💛🧡💚❤🖤💛💚🧡🖤❤💛🧡💚🖤❤💛🧡💚❤🖤💛💚🧡🖤❤💛🧡💚🖤❤💛🧡💚❤🖤💛💚🧡🖤❤💛🧡💚🖤❤💛🧡💚💦💦👅😘💦💦👅😘💦💦👅😘🌹🌹💓🌹🌹💓🌹🌹💓❤❤❤❤❤❤❤📸📽💲🔴🔴💲🎥🎬🌐❌❌❌📸📽💲🔴🔴💲🎥🎬🌐❌❌❌📸📽💲🔴🔴💲🎥🎬🌐❌❌❌❌⭕❌⭕❌⭕☎⭕❌⭕❌⭕❌⭕❌⭕❌⭕❌©'"
      ]
     },
     "execution_count": 3,
     "metadata": {},
     "output_type": "execute_result"
    }
   ],
   "source": [
    "import emoji\n",
    "\n",
    "def extract_emoji(data):\n",
    "    return ''.join(c for c in data if c in emoji.UNICODE_EMOJI)\n",
    "\n",
    "extract_emoji(data)"
   ]
  },
  {
   "cell_type": "markdown",
   "metadata": {},
   "source": [
    "## Extracting Key Emojis\n",
    "- Used \"Don't Want to Get Caught? Don't Say It: The Use of EMOJIS in Online Human Sex Trafficking Ads\" by Murray E. Jennex et. al. report to find key emojis within the HTML page"
   ]
  },
  {
   "cell_type": "code",
   "execution_count": 4,
   "metadata": {},
   "outputs": [
    {
     "data": {
      "text/plain": [
       "'👑🌸🌸🌸🌸🌸🌸🌹🌹🌹🌹🌹🌹💛💛💛💛💛💛💛💛💛💛💛💛🌹🌹🌹🌹🌹🌹✈🍒🍒💛💛💛💛💛🍒🍒🍒🍒🌸🌸✈💗💗🍒🍒🌹🌹✈👑🍒🍒💛💛💛💛💛🍒🍒🍒💛💛💛💛💛💛👑🍒🍒✈💛💛💛💛💛💛🍒🍒🍒🌹🌹✈👑🍒🍒🍒🍒🍒💗💗💗💛💛💛💛💛💛✈👑🍒🍒🍒🍒🍒🍒💗💗💛💛💛💛💛💛💛💛💛💛💛💛🍒🍒🍒🍒🍒🌸🌸🌸🌸🌸🌸🌹🌹🌹🌹🌹🌹💛💛💛💛💛💛💛💛💛💛💛💛💛💛💛🌹🌹🌹🌹🌹🌹'"
      ]
     },
     "execution_count": 4,
     "metadata": {},
     "output_type": "execute_result"
    }
   ],
   "source": [
    "import emoji\n",
    "emoji_list = ['🍒','🌸','✈','🛬','🌹','🏵','👑', '💛','💗']\n",
    "def extract_emoji(data):\n",
    "    return ''.join(c for c in data if c in emoji_list)\n",
    "\n",
    "extract_emoji(data)"
   ]
  },
  {
   "cell_type": "code",
   "execution_count": null,
   "metadata": {},
   "outputs": [],
   "source": []
  },
  {
   "cell_type": "code",
   "execution_count": 37,
   "metadata": {},
   "outputs": [],
   "source": [
    "def extract_useless_emoji(data) :\n",
    "    return ''.join(c for c in data if c in emoji.UNICODE_EMOJI and c not in emoji_list)"
   ]
  },
  {
   "cell_type": "code",
   "execution_count": 40,
   "metadata": {
    "scrolled": true
   },
   "outputs": [
    {
     "name": "stdout",
     "output_type": "stream",
     "text": [
      "⭐⭐💋💦😛😏🤩💋📲💋❤💋❤👗🌺🌺✨🌺🌺☯🌻🍀🌻🍀🌻🔥🔥🎈🎈❤❤❤❤❤❤❤❤❤❤❤❤🌺🌺🔥🌺🌺🌺🔥🌺🌺🌺🌺🔥🌺🌺🌺🔥🔥🔥🔥🌺🔥❌⭕❌⭕❌⭕☎⭕❌⭕❌⭕❌⭕❌⭕❌⭕💋❤💋❤💋❤💋❤💋❤💋❤💋❤💋❤💋❤💋❤👗🎀🌠👗🎀🌠👗🎀🌠🌻🍀🌻🍀🌻💋🌻🍀🌻🍀🌻💋🌻🍀🌻🍀🌻💋🔥🔥🔥🔥🔥🔥🔥🔥🔥🔥🔥🔥🔥🔥💐💐💐💐💐💐💞💞💞💞💞💞💞💞💞💞💞💞💞💞💞💞💞💞💞💞💞💞💞💞💞💞💞💞💞💞💞💞💞💞💞💞💞💞💞💞💞💞❤❤❤💋❤❤❤❤❤💋❤❤❤❤❤💋❤❤❤❤❤💋❤❤❤❤❤💋❤❤❤❤❤💋❤❤❤❤❤💋❤❤💓💓❤❤❤❤❤❤❤🎁🎁🎁🎁🎁🎁👍🔴🔴🔴🔴🔴🔴🔴🔴🔴🔴🎁🎁🎁👍🔴🔴🔴🔴🔴🔴🔴🔴🔴🔴❤🖤💚🧡🖤❤🧡💚🖤❤🧡💚❤🖤💚🧡🖤❤🧡💚🖤❤🧡💚❤🖤💚🧡🖤❤🧡💚🖤❤🧡💚❤🖤💚🧡🖤❤🧡💚🖤❤🧡💚💦💦👅😘💦💦👅😘💦💦👅😘💓💓❤❤❤❤❤❤❤📸📽💲🔴🔴💲🎥🎬📸📽💲🔴🔴💲🎥🎬🌐❌❌❌📸📽💲🔴🔴💲🎥🎬🌐❌❌❌❌⭕❌⭕❌⭕☎⭕❌⭕❌⭕❌⭐⭐♥❤💋💦😜😜❤❣😉💋❤💋❤👗🎀🌠🌺🌺✨🌺🌺🔥🔥🔥🌺🌺☯☯🌻🍀🌻🍀🌻💋🍀✴❤🚺✴❤🚺✴❤❤🚺👙💋💦❤❤❤❤❤❤❤❤💆♂💦🍆🌺✨🌺✨🔥🔥💐💐❤✨❤✨✨❤✨✨❤💞💞💞💞💞💞💞💞💞💞💋💦😜😜❤❣😉😜💦👅🍌💦💦😻💦👀💋💦⭐🅾🅰🅿🔥🔯✨✨💟🎀🔯💟💟✨🔯💟💟👍👍👙💋💦❣💖💖❣💥❣💥❣💖💖💖☎👙💋💦💞💞💞💞💞💞❤❤❤💋❤❤🍎🍎🍎♻♻🍎🍎🍎♻♻🍎🍎🍎♻♻🍎💆♂💆♂💆♂🤗❤✨❤✨✨❤✨✨❤❤❤❤❤❤❤❤❤💓💆♂💦🍆💞💞💞💞💞💞💞💞💞💞❤🍎🍎🍎♻♻🍎🍎🍎♻♻🍎🍎🍎♻♻🍎😜💦👅🍌💦💦😻💦👀💋💦👍👙💋💦💋💦😜😜❤❣😉🍓✨💎💯💎👀🍭🍬🍭💯🍓💫🔯✨✨💟🎀🔯💟💟✨🔯💟💟👠💲💲❤🍀✴❤🚺✴❤🚺✴❤❤🚺🎈🎈🎁🎁🎁👍🔴❤🖤💚🧡🖤💆♂💦🍆😘😘💦💦💦💦👀💋💋👅💋🌻🍀🌻🍀🌻💋💆♂💦🍆🍓💆♂❤✨❤✨✨❤✨✨❤💆♂💆♂💆♂🤗💞💞💞💞💞💞💞💞💞💞❤❤❤❤❤❤❤❤❤❤❤❤❤❤❤❤❤❤❤❤❤❤❤❤❤🍎🍎🍎♻♻🍎🍎🍎♻♻🍎🍎🍎♻♻🍎🔯🎀🔯✨✨💟🎀🔯💟💟✨🔯🎀🔯💟💟🔯✨✨💟🍀✴❤🚺✴❤🚺✴❤✴❤❤🚺✴🍓✨💎💯💎👀🍭🍬🍭💯🍓💫💋💦😜😜❤❣😉💦💦👅😘⭐🅾🅰🅿🔥🍀✴❤🚺✴❤🚺✴❤🚺✴❤❤🚺❤🚺💞💞💞💞💞💞💞💞💞💞❤✨❤✨✨❤✨✨❤🔥🔥🍓💆♂💆♂💆♂🤗💆♂💓❤🍎🍎🍎♻♻🍎🍎🍎♻♻🍎🍎🍎♻♻🍎👙💋💦🌺🌺🔥🌺🌺🌺🔥🌺🌺🌺🌺🔥🌺🌺🌺🔥🔥🔥🔥🌺🔥💋💦😜😜❤❣😉🍓✨💎💯💎👀🍭🍬🍭💯🍓💫👠💲💲❤✨❤✨✨❤✨✨❤✨✨🦄🌈🌈💦✨✨🦄☎🌺✨💓✨🌺💆♂💆♂💆♂🤗🦋🦋🦋🦋🦋🦋🦋🦋🦋💦💆♂🍓🔥🔥💆♂❣❣❣💖💖💖❣💖💖💖💖☎🔯🎀🔯✨✨💟🎀🔯💟💟✨🔯🎀🔯💟💟🔯✨✨💟🍀✴❤🚺✴❤🚺✴❤🚺✴❤❤🚺❤🚺🔥🔴🔥🔥🔴🔥🔴🔥🔴🔥🔴💜💙💚❤💜💙🔥🔥🔥🔥❌⭕❌⭕❌⭕☎⭕❌⭕❌⭕❌⭕❌⭕❌⭕💋💦😜😜❤❣😉🍓✨💎💯💎👀🍭🍬🍭💯🍓💫😘😘💦💦👀👅⭐🅾🅰🅿🔥🔥🔴🔥🔥🔴🔥🔴🔥🔴🔥🔴💜💙💚❤💜💙🔥🔥🔥🔥❤💆♂💆♂💆♂🤗🦋🦋🦋🦋🦋🦋🦋🦋🦋💦🍓🔥🔥💆♂💞💞💞💞💞💞💞💞💞💞💆♂🍓💆♂💖💖❣💥💥❣💖💖💖💥💥💥💥💖💖💖☎☎🍀✴❤🚺✴❤🚺✴❤🚺✴❤❤🚺❤🚺🔥🔴🔥🔥🔴🔥🔴🔥🔴🔥🔴💜💙💚❤💜💙🔥🔥🔥🔥🔥🔥💆♂🦋🦋🦋🦋🦋🦋🦋🦋🦋💦💞💞💞💞💞💞💞💞💞💞✋👀🔍💋☑☝👅☑👍💕☑🔥☑☑👠💲💲📸📽💲🔴🔴💲🎥🎬🌐❌❌❌🍀✴❤🚺✴❤🚺✴❤🚺✴❤❤🚺❤🚺🌺✨🌺🦋🦋🦋🦋🦋🦋🦋🦋🦋💦❤❤❤❤❤❤❤❤❤❤❤❤❤🌺✨🌺✨🌺✨❣💆♂🍀🔥🍀🍀🔥🔥⭐⭐⭐💞💞💞💞💞💞💞💞💞💞❌⭕❌⭕❌⭕☎⭕❌⭕❌⭕❌⭕❌⭕❌⭕💋❤💋❤💋❤💋❤💋❤💋❤💋❤💋❤💋❤💋❤👗🎀🌠👗🎀🌠👗🎀🌠🌻🍀🌻🍀🌻💋🌻🍀🌻🍀🌻💋🌻🍀🌻🍀🌻💋🔥🔥🔥🔥🔥🔥🔥🔥🔥🔥🔥🔥🔥🔥💐💐💐💐💐💐💞💞💞💞💞💞💞💞💞💞💞💞💞💞💞💞💞💞💞💞💞💞💞💞💞💞💞💞💞💞💞💞💞💞💞💞💞💞💞💞💞💞❤❤❤💋❤❤❤❤❤💋❤❤❤❤❤💋❤❤❤❤❤💋❤❤❤❤❤💋❤❤❤❤❤💋❤❤❤❤❤💋❤❤💓💓💓❤❤❤❤❤❤❤🎁🎁🎁👍🔴🔴🔴🔴🔴🔴🔴🔴🔴🔴🎁🎁🎁👍🔴🔴🔴🔴🔴🔴🔴🔴🔴🔴🎁🎁🎁👍🔴🔴🔴🔴🔴🔴🔴🔴🔴🔴❤🖤💚🧡🖤❤🧡💚🖤❤🧡💚❤🖤💚🧡🖤❤🧡💚🖤❤🧡💚❤🖤💚🧡🖤❤🧡💚🖤❤🧡💚❤🖤💚🧡🖤❤🧡💚🖤❤🧡💚❤🖤💚🧡🖤❤🧡💚🖤❤🧡💚💦💦👅😘💦💦👅😘💦💦👅😘💓💓💓❤❤❤❤❤❤❤📸📽💲🔴🔴💲🎥🎬🌐❌❌❌📸📽💲🔴🔴💲🎥🎬🌐❌❌❌📸📽💲🔴🔴💲🎥🎬🌐❌❌❌❌⭕❌⭕❌⭕☎⭕❌⭕❌⭕❌⭕❌⭕❌⭕❌©\n"
     ]
    }
   ],
   "source": [
    "data2 = extract_useless_emoji(data)\n",
    "print(data2)"
   ]
  },
  {
   "cell_type": "markdown",
   "metadata": {},
   "source": [
    "## Isolating Titles from rest of HTML page\n",
    "- Using BeautifulSoup, create an object from HTML txt file and store all titles into a list (Soup ResultSet object)"
   ]
  },
  {
   "cell_type": "code",
   "execution_count": 7,
   "metadata": {},
   "outputs": [],
   "source": [
    "from bs4 import BeautifulSoup\n",
    "title = open(URL_NYC, encoding='utf-16')\n",
    "\n",
    "soup = BeautifulSoup(title)\n",
    "\n",
    "mydivs = soup.findAll(\"div\", {\"class\": lambda L:L and L.startswith('cat ad-')})"
   ]
  },
  {
   "cell_type": "code",
   "execution_count": null,
   "metadata": {
    "scrolled": true
   },
   "outputs": [],
   "source": []
  },
  {
   "cell_type": "markdown",
   "metadata": {},
   "source": [
    "### Example of title data before scrubbing"
   ]
  },
  {
   "cell_type": "code",
   "execution_count": 8,
   "metadata": {},
   "outputs": [],
   "source": [
    "title1 = mydivs[0]"
   ]
  },
  {
   "cell_type": "code",
   "execution_count": 9,
   "metadata": {},
   "outputs": [
    {
     "name": "stdout",
     "output_type": "stream",
     "text": [
      "<div class=\"cat ad-6165063\">\n",
      "<a onclick=\"return displaypost(6165063)\"><img src=\"https://www.bedpage.com/assets/images/bn2.png\"/>\n",
      "</a><a href=\"https://new-york.bedpage.com/backpage.com/TherapeuticMassage/queens-ny-usa/6165063\" target=\"_blank\"> \n",
      "\t\t\t\t\t\t\t\t\n",
      "\t\t\t\t\t\t\t\tOPEN 10AM - Midnight.....?⭐️..NEW ..⭐️?............... .call ♥️ @ 646-255-5931 ❤️ ..........Nice Body Work from NEW GIRLS..........100<b> - (Queens, NY, USA )</b>\n",
      "</a>\n",
      "</div>\n"
     ]
    }
   ],
   "source": [
    "print(title1)"
   ]
  },
  {
   "cell_type": "markdown",
   "metadata": {},
   "source": [
    "## Isolating ID numbers from Title\n",
    "- use mydivs object in for loop combined with string splicing to output ID number from each title"
   ]
  },
  {
   "cell_type": "code",
   "execution_count": 10,
   "metadata": {},
   "outputs": [
    {
     "name": "stdout",
     "output_type": "stream",
     "text": [
      "['6165063', '6313445', '6313432', '6313419', '6313394', '6301300', '6242030', '6313350', '6267230', '6313274', '6313273', '6239080', '6295326', '6228894', '6313114', '6298906', '6312863', '6312703', '6312682', '6304375', '6243950', '6312561', '6312463', '6312372', '6312209', '6312183', '6299129', '6312169', '6312153', '6312023', '6293088', '6298918', '6305921', '6249899', '6309549', '6311942', '6234914', '6295370', '6295455', '6243933', '6311880', '6264532', '6311870', '6301088', '6309062', '6311694', '6311592', '6311487', '6311440', '6297852', '6311351', '6200813', '6311278', '6311054', '6311011', '6310998', '6310874', '6308385', '6249518', '6310809', '6310800', '6310757', '6310712', '6301315', '6310669', '6243970', '6309506', '6309584', '6309516', '6310601', '6310577', '6310576', '6265593', '6310488', '6310429', '6310202', '6310187', '6310166', '6310004', '6281541', '6309926', '6309841', '6309789', '6309741', '6309366', '6299534', '6309711', '6309690', '6309683', '6309676', '6237343', '6309517', '6309483', '6309470', '6309468', '6309431', '6281148', '6190261', '6309331', '6297713', '6309231', '6309114', '6309020', '6309034', '6308976', '6308957', '6308887', '6308568', '6308508', '6308462', '6241546', '6308376', '6308357', '6308326', '6308304', '6308287', '6202605', '6308187', '6307972', '6307920', '6307869', '6307721', '6307645', '6307620', '6307525', '6307358', '6307287', '6307234', '6307230', '6307229', '6307224', '6307188', '6307187', '6239173', '6307171', '6307160', '6307151', '6307014', '6243866', '6306708', '6306616', '6306506', '6306407', '6306343', '6306275', '6306244', '6306144', '6295338', '6247139', '6306105', '6294343', '6306069', '6306039', '6305974', '6305950', '6305922', '6305746', '6305562', '6215243', '6305276', '6305140', '6304939', '6304931', '6304912', '6304811', '6304804', '6304782', '6304776', '6304501', '6304381', '6304172', '6304162', '6304154', '6304090', '6303946', '6303940', '6303916', '6163071']\n"
     ]
    }
   ],
   "source": [
    "id_array = []\n",
    "j=0\n",
    "for i in mydivs:\n",
    "    temp = str(mydivs[j])\n",
    "    id_array.append(temp[19:26])\n",
    "    j+=1\n",
    "print(id_array)"
   ]
  },
  {
   "cell_type": "markdown",
   "metadata": {},
   "source": [
    "## Extracting Title Heading\n",
    "- get title heading from HTML page and clean up output to prepare for machine learning"
   ]
  },
  {
   "cell_type": "code",
   "execution_count": 11,
   "metadata": {},
   "outputs": [],
   "source": [
    "# holds cleaned Title heading\n",
    "title_array = []"
   ]
  },
  {
   "cell_type": "code",
   "execution_count": 12,
   "metadata": {},
   "outputs": [
    {
     "name": "stdout",
     "output_type": "stream",
     "text": [
      "('OPEN 10AM - Midnight.....?⭐️..NEW ..⭐️?............... .call ♥️ @ 646-255-5931 ❤️ ..........Nice Body Work from NEW GIRLS..........100 - (Queens, NY, USA )', '99SPCLZ💋Korean ßombshεℓℓ NyMphO 💦deep thrOat😜😜❤️✈️ Avαiℓαbℓe ⓝⓞⓦ❣️ AMAZING skills 😉 - (Manhattan, New York, NY, USA )', 'Young Ts TITA. ... - (Bay Ridge, Brooklyn, NY, USA )', '💋❤️💋Nuru massage outcall ❤️917-266-0091 - (New York, NY, USA )', 'Shelly here👗 hosting Swed amer w /perky  friendly🎀 mature sensual pampering 🌠 Incall   - (Upper West Side, Manhattan, New York, NY, USA )', '*****Rub Boutique seeking American Girls/Indian Girls Great pay, no experience necessary 400+/day****** - (Long Island, New York, USA )', 'Gretchen the Goddess of Punishment - (Brooklyn, NY, USA )', 'SEXY 🌺busty blonde🌺 34 DD✨🌺 NATURAL🌺 SENSUAL 🔥🍒very🍒🔥 RELAXING 🔥bodywork 🌺646_687_6342,🌺 - (White Plains, NY, USA )', '★☯★ Therapeutic Touch Therapy With Professional Cuddle Buddies + Travel Companions ★☯★ - (United States )', '🌻🍀🌻🍀🌻 TANTRIC  Relaxation  by Victoria 💋 - (White Plains, NY, USA )', '🍀 ✴️❤🚺  ALL NEW ASIAN LADIES 💛✴️❤🚺💛 💛 YOUNG GRIL💛 💛✴️❤GOOD MASSAGE ❤🚺  (631) 563-0120 - (62 South Main Street, Sayville, NY, USA )', 'Latina girls 👙Erotic  bodyrub with Young  girl  💋will make you happy 💦516-667-4907 Mineola NY - (Mineola, NY, USA )', 'Best good massage hot Latina 914.327.9068 - (Bronx, NY, USA )', 'SENSATIONAL  TOCH   INCALL AND OUTCALL - (Astoria Boulevard, Astoria, NY, USA )', 'European Hottie  🍒LISSETE 🍒gorgeous Blond 🍒Sensual Upscale bodywork  - (White Plains, NY, USA )', '❤️❤️Asia ❤️❤️Japan ❤️9176407312  ❤️  Brooklyn   ❤️Korea ❤️Phone 9294339992 - (814 47th Street,Brooklyn  )', '💆🏻\\u200d♂️Thai massage and Swedish combination 💦🍆 - (Manhattan, New York, NY, USA )', 'Viviana feel free to book an appointment at : 917-310-0591. Av on midt west. 917-310-0591 - (Midtown West, Manhattan, New York, NY, USA )', 'Sexy BUSTY 🌺BLOND ✨36D natural 🌺sensual body rub  in call 🍒✨ - (White Plains, Westchester, NY, USA )', 'Hot Jessica 🔥🔥 Nuru Goddess...  - (SoHo, Manhattan, NY, New York, USA )', '💐🌸Brazilian and Middle Eastern Sophia🌸💐 2013400730 Best sensual touch ever - (Astoria, Queens, NY, USA )', \"Rise to The Occasion - Rosanna's Real Massage! - (Upper West Side, Manhattan, New York, NY, USA )\", '❤️✨BODYWORK By EVE❤️✨ Tantric NUDE Massage✨Mutual TOUCH❤️Ava 10-8pm✨Private Incall✨❤️ - (Union Turnpike - Kew Gardens Sta, Queens, NY, USA )', '💞💞💞💞💞Exotic Asian Girls, 22 years old, 24/7, Outcall  💞💞💞💞💞 - (Long Island City, Queens, NY, USA )', '99SPCLZ💋Korean ßombshεℓℓ NyMphO 💦deep thrOat😜😜❤️✈️ Avαiℓαbℓe ⓝⓞⓦ❣️ AMAZING skills 😉 - (Manhattan, New York, NY, USA )', 'Slim THICK with a NICE LIL FAT ASS😜💦👅🍌💦Tight 💦Wet KITTY😻💦👀Mesmerizing💋Curvz Impeccable Skilz💦 - (Manhattan, New York, NY, USA )', 'Blonde Bombshell Riley here to tease and please you tonight ;) - (Midtown East, Manhattan, New York, NY, USA )', '⎝ ◕ ‿ ◕ ⎠σиℓʏ ғσя ʏσʋ ραρι⭐️🅾🅽🅻🆈◄ ▲🆁🅴🅰🅻 ► ▼🅿🅸🅲🆂¸✿乂◕‿◕乂🔥ⓗⓞ - (Manhattan, New York, NY, USA $99 SPECIAL )', 'THE ROYAL TREATMENT aka \"Cream de la Cream\" by Nurse Pearl -  Lovely Black Nurse 212.353.8817 - (East 23rd Street, Manhattan, New York, NY, USA )', '🔯 ✨NEW GIRLS TODAY ✨💟🎀🔯▃ 💟💟✨Beautifully G▃ I▃R▃L▃S🔯▃💟YOUNG💟  (646) 982-7144 - (4030 149th Street, Flushing, NYC, ????? )', 'Guen here with a gentle touch. 6314611818 Holbrook - (Holbrook, NY, USA )', 'Outcall Massage by CMT Natalia ***** Available Now ****** - (New York, NY, USA )', 'Sensual body rub, Forest hills - (Forest Hills, Queens, NY, USA )', 'ReaL Pictures 👍👍American girl &amp;  Latina Girls 👙Erotic  bodyrub with Young girl  4 hands available  💋will make you happy 💦516-667-4907Mi - (Mineola, NY, USA )', 'Erotic bodyrub 160$ - (Forest Hills, Queens, NY, USA )', '❣️ 💖Grand Open💗💖💗 YOUNG GRIL ❣️💥❣️💥❣️ NICE GRIL 💖24HOURS 💖💖  ☎  (929) 234-9365 - (6324 Bay Ridge Parkway, Brooklyn, NY, USA )', '_______________ _____________N_ __U___R_ U_____ __E__U___R___O_ __________G__ I__R___L___ S ___ ___ - (Midtown East, Manhattan, New York, NY, USA )', 'THAI MASSAGE 6465992443 - (Midtown, Manhattan, New York, NY, USA )', 'Meet ZOE! All Natural DDD Curvy Stunner Zoe Available Now The Ultimate Sensual Escape - (Midtown East, Manhattan, New York, NY, USA )', 'European &amp; Latina girls  👙  bodyrub with Young girl  4 hands available 💋will make you happy 💦516-667-4907Mineola NY - (Mineola, NY, USA )', '💞💞Curvy Busty College Babe💞 Sensual BodyRubs💞Private Studio💞💞 - (Williamsburg, Brooklyn, NY, USA )', '❤️❤️❤️European Bodyrub from Alyssa💋❤️❤️ - (New York, NY, USA )', '🍎🍎🍎♻️♻️VERY NICE GRILS🍎🍎🍎♻️♻️Cool Room🍎🍎🍎♻️♻️3Girls Young🍎  (929) 264-1801 - (740 East Jericho Turnpike, Huntington Station, NY, USA )', 'Royal Relaxation with Angelique Laroux 424-835-1620 - (Valley Stream, NY, USA )', 'Blonde Curvy DDD Knockout Hailey Is Back And To New Area ! Available Now !  - (Manhattan, New York, NY, USA )', \"Rise to The Occasion - Rosanna's Real Massage! - (Upper West Side, Manhattan, New York, NY, USA )\", '💆\\u200d♂️💆\\u200d♂️💆\\u200d♂️MASSAGE FEELS SO GOOD 🤗🍒🍒 - (Manhattan, New York, NY, USA )', '❤️✨BODYWORK By EVE❤️✨ Tantric NUDE Massage✨Mutual TOUCH❤️Ava 10-8pm✨Private Incall✨❤️ - (Union Turnpike - Kew Gardens Sta, Queens, NY, USA )', 'All Natural bombshell Available Now For Upscale NUDE Body rub  - (E 33rd St, New York, NY, USA )', '❤️❤️Asia ❤️❤️Japan ❤️9176407312 ❤️❤️Korea ❤️Phone 9294339992 - (814 47th Brooklyn  )', '🌹 Independent OutCall Therapeutic Bodywork at Your Hotel/Apt by All-American Lady 🌹 ********** PLEASE TEXT ME AT - 646-715-6805 💓 - (New York, Manhattan, NY, USA )', 'BLACK JAMAICAN GODDESS 3473772169 DOMINATION FETISH PLAY &amp; BODYRUBS - (Sunset Park Brooklyn )', '💆🏻\\u200d♂️Thai massage and Swedish combination 💦🍆 - (Manhattan, New York, NY, USA )', '💞💞💞💞💞Exotic Asian Girls, 22 years old, 24/7, Outcall  💞💞💞💞💞 - (Long Island City, Queens, NY, USA )', 'Hi Hi! Come Enjoy a Massage from Brazilian TS in Brooklyn ❤️ Exotic BEAUTY - (Brooklyn, NY, USA )', 'Viviana feel free to book an appointment at : 917-310-0591. Av on midt west. 917-310-0591 - (Midtown West, Manhattan, New York, NY, USA )', '🍎🍎🍎♻️♻️VERY NICE GRILS🍎🍎🍎♻️♻️Cool Room🍎🍎🍎♻️♻️3Girls Young🍎  (929) 264-1801 - (740 East Jericho Turnpike, Huntington Station, NY, USA )', 'Slim THICK with a NICE LIL FAT ASS😜💦👅🍌💦Tight 💦Wet KITTY😻💦👀Mesmerizing💋Curvz Impeccable Skilz💦 - (Manhattan, New York, NY, USA )', 'ReaL Pictures 👍 Latina Girs👙Erotic  bodyrub with Young girl  4 hands available  💋will make you happy 💦516 -667-4907 Mineola NY - (Mineola, NY, USA )', '99SPCLZ💋Korean ßombshεℓℓ NyMphO 💦deep thrOat😜😜❤️✈️ Avαiℓαbℓe ⓝⓞⓦ❣️ AMAZING skills 😉 - (Manhattan, New York, NY, USA )', '👑🍒🍓✨Ɓєαυтιƒυℓ💎💯💎Asian 👀ƐƳƐ Ƈαη∂у🍭🍬🍭 ƬOρ-ƝOƬcн 💯%ⓇⒺⒶⓁ🍒🍓💫WETTER ANd BeTTer� - (Manhattan, New York, NY, USA )', '🔯 ✨NEW GIRLS TODAY ✨💟🎀🔯▃ 💟💟✨Beautifully G▃ I▃R▃L▃S🔯▃💟YOUNG💟  (646) 982-7144 - (4030 149th Pl, Flushing, NYC, ????? )', '▂▃▄▅▆▇█👠most ✿✿erotic✿✿ᒪᗩtiᑎᗩS &amp; ᗩSiᗩᑎS █▇▆▅▄▃▂▁ 💲 specials all night 💲⎝ ◕ ‿ ◕ � - (Manhattan, New York, NY, USA $99 SPECIAL )', 'True Bliss of the City, Only the Best Outcall Massage with Stacey ❤️ - (New York, NY, USA )', '🍀 ✴️❤🚺  ALL NEW ASIAN LADIES 💛✴️❤🚺💛 💛 YOUNG GRIL💛✴️❤GOOD MASSAGE ❤🚺  (631) 563-0120 - (62 South Main Street, Sayville, NY, USA )', '🎈Cutie MoMo🎈Edging/ Fetish/ Tantric Massage/Outcall /Incall - (Midtown East, Manhattan, New York, NY, USA )', '▉▉▉▉▉▉▉▉ Grand opening 🎁🎁🎁 NEW here▉▉▉▉▉▉ yuong hot ▉▉▉▉   Magical experience, you deserve a try 👍🔴 - (Main St Station, ???????? )', '█████████████🄡🄔🄐🄛🄌🄌🄌🄌pic 🄌🄌🄌🄌Yuong ℋot ℙerrty 3479252701 ❤️🖤💛💚🧡🖤� - (Flushing, ???????? )', '💆🏻\\u200d♂️Thai massage and Swedish combination 💦🍆 - (Manhattan, New York, NY, USA )', 'Hot Sexy Latinas 😘😘 BIG💦💦 JuICy 💦💦B👀ty or HuGe💋💋 B (*)(*)Bs👅...COME SEE US. CALL NOW 929 337 3329!💋 - (Cross Island Parkway, Bellerose, NY, USA )', 'Sensual body rub, mutual touching 646-460-3040 Forest Hills, Queens - (Forest Hills, Queens, NY, USA )', '🌻🍀🌻🍀🌻 TANTRIC  Relaxation  by Victoria 💋 - (White Plains, NY, USA )', 'M4M BODYWORK FOR THE ADVENTUROUS BI-BICURIOUS Discreet sessions TEXT below - (Manhattan, New York, NY, USA )', \"Rise to The Occasion - Rosanna's Real Massage! - (Upper West Side, Manhattan, New York, NY, USA )\", '💆🏻\\u200d♂️Thai massage and Swedish combination 💦🍆 - (Manhattan, New York, NY, USA )', '🍒🍓MASSAGE IS SO GOOD FOR YOU... - (Manhattan, New York, NY, USA )', '💆🏼\\u200d♂️ Transgender Outcalls Massage 3479917619  - (Manhattan, New York, NY, USA )', 'All Natural bombshell Available Now For Upscale NUDE Body rub  - (E 33rd St, New York, NY, USA )', '❤️✨BODYWORK By EVE❤️✨ Tantric NUDE Massage✨Mutual TOUCH❤️Ava 10-8pm✨Private Incall✨❤️ - (Union Turnpike - Kew Gardens Sta, Queens, NY, USA )', 'Busty sweet New York native here for a fun naughty time in the MurrayHill area  - (Manhattan, New York, NY, USA )', '💆\\u200d♂️💆\\u200d♂️💆\\u200d♂️MASSAGE FEELS SO GOOD 🤗🍒🍒 - (Manhattan, New York, NY, USA )', '💞💞💞💞💞Exotic Asian Girls, 22 years old, 24/7, Outcall  💞💞💞💞💞 - (Long Island City, Queens, NY, USA )', 'Viviana feel free to book an appointment at : 917-310-0591. Av on midt west. 917-310-0591 - (Midtown West, Manhattan, New York, NY, USA )', 'VIVI real latin beauty . MANHATTAN 9293305970 OUTCALL ONLY - (Midtown West, Manhattan, New York, NY, USA )', 'Wall str The newest to FIDI! Long legged green eyed blond  - (Wall Street, New York, NY, USA )', '❤️❤️Asia ❤️❤️Japan ❤️❤️❤️Brooklyn❤️❤️❤️9176407312❤️❤️Korea ❤️Phone 9294339992 - (814 47st brooklyn  )', '❤️❤️INcall ❤️Brooklyn❤️❤️9176407312❤️❤️Asia ❤️❤️Japan ❤️❤️Korea ❤️Phone 9294339992 - (814 47st Brooklyn  )', '🍎🍎🍎♻️♻️VERY NICE GRILS🍎🍎🍎♻️♻️Cool Room🍎🍎🍎♻️♻️3Girls Young🍎  (929) 264-1801 - (740 East Jericho Turnpike, Huntington Station, NY, USA )', '🔯🎀🔯 ✨NEW GIRLS TODAY ✨💟🎀🔯▃ 💟💟✨Beautifully G▃ I▃R▃L▃S🔯🎀🔯▃💟YOUNG💟▃🔯✨646-982-7144✨ 💟 - (4030 149th Street, Flushing, NY, ????? )', '🍀 ✴️❤🚺  ALL NEW ASIAN LADIES 💛✴️❤🚺💛 💛 YOUNG GRIL💛✴️❤✴️❤GOOD MASSAGE ❤🚺631-563-0120💛 💛✴️ - (62 South Main Street, Sayville, NY, USA )', 'Viviana feel free to book an appointment at : 917-310-0591. Av on midt west. 917-310-0591 - (Midtown West, Manhattan, New York, NY, USA )', '👑🍒🍓✨Ɓєαυтιƒυℓ💎💯💎Asian 👀ƐƳƐ Ƈαη∂у🍭🍬🍭 ƬOρ-ƝOƬcн 💯%ⓇⒺⒶⓁ🍒🍓💫WETTER ANd BeTTer� - (Manhattan, New York, NY, USA )', '99SPCLZ💋Korean ßombshεℓℓ NyMphO 💦deep thrOat😜😜❤️✈️ Avαiℓαbℓe ⓝⓞⓦ❣️ AMAZING skills 😉 - (Manhattan, New York, NY, USA )', '💦💦Cum Get A  Sensual body rub with your  favorite Dominican SKy👅😘 - (New York, NY, USA )', '⎝ ◕ ‿ ◕ ⎠σиℓʏ ғσя ʏσʋ ραρι⭐️🅾🅽🅻🆈◄ ▲🆁🅴🅰🅻 ► ▼🅿🅸🅲🆂¸✿乂◕‿◕乂🔥ⓗⓞ - (Manhattan, New York, NY, USA )', '🍀 ✴️❤🚺  ALL NEW ASIAN LADIES 💛✴️❤🚺💛 💛 YOUNG GRIL💛✴️❤🚺💛 💛✴️❤GOOD MASSAGE ❤🚺❤🚺631-563-01 - (62 South Main Street, Sayville, NY, USA )', 'All Natural bombshell Available Now For Upscale NUDE Body rub  - (E 33rd St, New York, NY, USA )', 'Royal Relaxation with Angelique Laroux - (Valley Stream, Near Green Acres Mall )', 'Do You Need Massage With*  Ts* - (Bay Ridge, Brooklyn, NY, USA )', '💞💞💞💞💞Exotic Asian Girls, 22 years old, 24/7, Outcall  💞💞💞💞💞 - (Long Island City, Queens, NY, USA )', '❤️✨BODYWORK By EVE❤️✨ Tantric NUDE Massage✨Mutual TOUCH❤️Ava 10-8pm✨Private Incall✨❤️ - (Union Turnpike - Kew Gardens Sta, Queens, NY, USA )', 'Hot Jessica 🔥🔥 Nuru Goddess...  - (Manhattan, New York, NY, USA )', '🍒🍓MASSAGE IS SO GOOD FOR YOU... - (Manhattan, New York, NY, USA )', '💆\\u200d♂️💆\\u200d♂️💆\\u200d♂️MASSAGE FEELS SO GOOD 🤗🍒🍒 - (Manhattan, New York, NY, USA )', '💆🏼\\u200d♂️ Transgender Outcalls Massage 3479917619  - (Manhattan, New York, NY, USA )', 'All Natural bombshell Available Now For Upscale NUDE Body rub  - (E 33rd St, New York, NY, USA )', '🌹 Out-Call Therapeutic Bodywork at Your Hotel or Apt by All-American Lady 🌹 ********** PLEASE TEXT ME AT - 646-715-6805 💓 - (Manhattan, New York, NY, USA )', 'Hi Hi! Come Enjoy a Massage from Brazilian TS in Brooklyn ❤️ Exotic BEAUTY - (Brooklyn, NY, USA )', 'VIVI real latin beauty . MANHATTAN 9293305970 OUTCALL ONLY - (Midtown West, Manhattan, New York, NY, USA )', '🍎🍎🍎♻️♻️VERY NICE GRILS🍎🍎🍎♻️♻️Cool Room🍎🍎🍎♻️♻️3Girls Young🍎  (929) 264-1801 - (740 East Jericho Turnpike, Huntington Station, NY, USA )', 'Latina Girl 👙Erotic  bodyrub with Young girl 4 hands available 💋will make you happy 💦516-667-4907 Mineola NY - (Mineola, NY, USA )', '🌺🌺🔥🌺Thai massage 🌺🌺🔥🌺 Relaxation session 🌺🌺🌺🔥🌺 9174344185 🌺🌺🔥🔥Outcall available 🔥🔥🌺🔥 Sw - (Midtown, Manhattan, New York, NY, USA )', '99SPCLZ💋Korean ßombshεℓℓ NyMphO 💦deep thrOat😜😜❤️✈️ Avαiℓαbℓe ⓝⓞⓦ❣️ AMAZING skills 😉 - (Manhattan, New York, NY, USA )', '👑🍒🍓✨Ɓєαυтιƒυℓ💎💯💎Asian 👀ƐƳƐ Ƈαη∂у🍭🍬🍭 ƬOρ-ƝOƬcн 💯%ⓇⒺⒶⓁ🍒🍓💫WETTER ANd BeTTer� - (Manhattan, New York, NY, USA )', '▂▃▄▅▆▇█👠most ✿✿erotic✿✿ᒪᗩtiᑎᗩS &amp; ᗩSiᗩᑎS █▇▆▅▄▃▂▁ 💲 specials all night 💲⎝ ◕ ‿ ◕ � - (Manhattan, New York, NY, USA $99 SPECIAL )', '❤️✨BODYWORK By EVE❤️✨ Tantric NUDE Massage✨Mutual TOUCH❤️Ava 10-8pm✨Private Incall✨❤️ - (Union Turnpike - Kew Gardens Sta, Queens, NY, USA )', '✨✨🦄 Excellent Thai massage 🌈🌈Full body touch💦 The best service EVER!!! ✨✨🦄646-925-0602☎️ - (Midtown Manhattan  )', 'BUSTY 🌺BLOND ✨36DD 💓Natural sensual and RELAXING body rub ✨🌺 - (White Plains, NY, USA )', '💆\\u200d♂️💆\\u200d♂️💆\\u200d♂️MASSAGE FEELS SO GOOD 🤗🍒🍒 - (Manhattan, New York, NY, USA )', '🦋24hrs🦋🦋🦋🦋An ELEGANT🦋UPSCALE🦋PRIVATE🦋SENSUAL BODYRUB YOU DESERVE🦋w/Gorgeous Fashion Model💦UltraRefreshing Organic AquaGe - (Queens, NY, USA )', '💆🏼\\u200d♂️ Asian Transgender Outcalls Massage 3479917619  - (Manhattan, New York, NY, USA )', 'All Natural bombshell Available Now For Upscale NUDE Body rub  - (E 33rd St, New York, NY, USA )', 'Sultry Seductive Madison! - (Upper East Side, Manhattan, New York, NY, USA )', '🍒🍓MASSAGE IS SO GOOD FOR YOU... - (Manhattan, New York, NY, USA )', 'Hot Jessica 🔥🔥 Nuru Goddess.. - (Manhattan, New York, NY, USA )', '💆🏼\\u200d♂️ Transgender Outcalls Massage 3479917619  - (Manhattan, New York, NY, USA )', 'VIVI real latin beauty . MANHATTAN 9293305970 OUTCALL ONLY - (Midtown West, Manhattan, New York, NY, USA )', '❣️❣️❣️ 💖Grand Open💗💖💗💖💗 YOUNG GRIL ❣️NICE GRIL 💖💖24HOURS💖💖  ☎ :929-234-9365 - (6324 Bay Ridge Parkway, Brooklyn, NYC, USA )', '🔯🎀🔯 ✨NEW GIRLS TODAY ✨💟🎀🔯▃ 💟💟✨Beautifully G▃ I▃R▃L▃S🔯🎀🔯▃💟YOUNG💟▃🔯✨646-982-7144✨ 💟 - (4030 149th Pl, Flushing, NYC, ????? )', '🍀 ✴️❤🚺  ALL NEW ASIAN LADIES 💛✴️❤🚺💛 💛 YOUNG GRIL💛✴️❤🚺💛 💛✴️❤GOOD MASSAGE ❤🚺❤🚺631-563-01 - (62 South Main Street, Sayville, NY, USA )', '🔥🔴🔥GREAD OPEN🔥🔴🔥🔴🔥🔴🔥🔴 SEXY💜💙YOUNG💚❤️Asian Massage💜💙Asian Doll 🔥929-264-1801🔥🔥🔥 - (740 East Jericho Turnpike, Huntington Station, NY, USA )', 'Midtown ❌⭕️❌⭕️❌⭕️ 4 hands $70  ☎️917-833-4815⭕️❌⭕️❌⭕️❌ BEAUTIFUL ASIAN GIRLS AMAZING⭕️❌⭕️❌⭕️� - (East 32nd Street, New York, NY, USA )', '99SPCLZ💋Korean ßombshεℓℓ NyMphO 💦deep thrOat😜😜❤️✈️ Avαiℓαbℓe ⓝⓞⓦ❣️ AMAZING skills 😉 - (Manhattan, New York, NY, USA )', 'MAGIC HANDS  SENSUAL BODY RUB    INCALL AND OUTCALL   - (Astoria, Queens, NY, USA )', '👑🍒🍓✨Ɓєαυтιƒυℓ💎💯💎Asian 👀ƐƳƐ Ƈαη∂у🍭🍬🍭 ƬOρ-ƝOƬcн 💯%ⓇⒺⒶⓁ🍒🍓💫WETTER ANd BeTTer� - (Manhattan, New York, NY, USA )', 'Hot Sexy latina😘😘 BIG💦 JuIcY 💦 B👀ty!! 👅COME SEE ME Now!!.. CALL 929 337 3329 - (Cross Island Parkway, Bellerose, NY, USA )', '⎝ ◕ ‿ ◕ ⎠σиℓʏ ғσя ʏσʋ ραρι⭐️🅾🅽🅻🆈◄ ▲🆁🅴🅰🅻 ► ▼🅿🅸🅲🆂¸✿乂◕‿◕乂🔥ⓗⓞ - (Manhattan, New York, NY, USA $99 SPECIAL )', '🔥🔴🔥GREAD OPEN🔥🔴🔥🔴🔥🔴🔥🔴 SEXY💜💙YOUNG💚❤️Asian Massage💜💙Asian Doll 🔥929-264-1801🔥🔥🔥 - (740 East Jericho Turnpike, Huntington Station, NY, USA )', 'Hi Hi! Come Enjoy a Massage from Brazilian TS in Brooklyn ❤️ Exotic BEAUTY - (Brooklyn, NY, USA )', '💆\\u200d♂️💆\\u200d♂️💆\\u200d♂️MASSAGE FEELS SO GOOD 🤗🍒🍒 - (Manhattan, New York, NY, USA )', '🦋24hrs🦋🦋🦋🦋An ELEGANT🦋UPSCALE🦋PRIVATE🦋SENSUAL BODYRUB YOU DESERVE🦋w/Gorgeous Fashion Model💦UltraRefreshing Organic AquaGe - (Queens, NY, USA )', '🍒🍓MASSAGE IS SO GOOD FOR YOU... - (Manhattan, New York, NY, USA )', 'Hot Jessica 🔥🔥 Nuru Goddess.. - (Manhattan, New York, NY, USA )', '💆🏼\\u200d♂️ Asian Transgender Outcalls Massage 3479917619  - (Manhattan, New York, NY, USA )', '💞💞💞💞💞Exotic Asian Girls, 22 years old, 24/7, Outcall  💞💞💞💞💞 - (Long Island City, Queens, NY, USA )', '💆🏼\\u200d♂️ Transgender Outcalls Massage 3479917619  - (Manhattan, New York, NY, USA )', 'VIVI real latin beauty . MANHATTAN 9293305970 OUTCALL ONLY - (Midtown West, Manhattan, New York, NY, USA )', 'Best hot Latina good massage best time 914.327.9068 - (Bronx, NY, USA )', 'Pretty woman. Only Outcall.  - (Brooklyn, NY, USA )', '🍒🍓MASSAGE IS SO GOOD FOR YOU... - (Manhattan, New York, NY, USA )', '💆🏼\\u200d♂️ Transgender Outcalls Massage 3479917619  - (Manhattan, New York, NY, USA )', '💖Grand Open💗💖💗 YOUNG GRIL ❣️💥24HOURS💥❣️ NICE GRIL 💖💖💖💥💥💥💥💖💖💖  ☎CALL ☎ :929-234-9365 - (6324 Bay Ridge Parkway, Brooklyn, NYC, USA )', 'Erotic bodyrub 160$ - (Forest Hills, Queens, NY, USA )', 'Sexy and Sweet  DDD Goddess Hailey  is here to Tease and Please you! Available Now For Sunday Fun !! - (Midtown East, Manhattan, New York, NY, USA )', '🍀 ✴️❤🚺  ALL NEW ASIAN LADIES 💛✴️❤🚺💛 💛 YOUNG GRIL💛✴️❤🚺💛 💛✴️❤GOOD MASSAGE ❤🚺❤🚺631-563-01 - (62 South Main Street, Sayville, NY, USA )', '🔥🔴🔥GREAD OPEN🔥🔴🔥🔴🔥🔴🔥🔴 SEXY💜💙YOUNG💚❤️Asian Massage💜💙Asian Doll 🔥929-264-1801🔥🔥🔥 - (740 East Jericho Turnpike, Huntington Station, NY, USA )', 'Hot Jessica 🔥🔥 Nuru Goddess.. - (Midtown, Manhattan, NY, New York, USA )', '💆🏼\\u200d♂️ Asian Transgender Outcalls Massage 3479917619  - (Manhattan, New York, NY, USA )', 'VIVI real latin beauty . MANHATTAN 9293305970 OUTCALL ONLY - (Midtown West, Manhattan, New York, NY, USA )', '🦋24hrs🦋🦋🦋🦋An ELEGANT🦋UPSCALE🦋PRIVATE🦋SENSUAL BODYRUB YOU DESERVE🦋w/Gorgeous Fashion Model💦UltraRefreshing Organic AquaGe - (Queens, NY, USA )', '💞💞💞💞💞Exotic Asian Girls, 22 years old, 24/7, Outcall  💞💞💞💞💞 - (Long Island City, Queens, NY, USA )', 'AVẠłŁẠBŁẸ ₦Ø₩ №.➀ SEXIEST ASIAN MILF AROUND ■■ ⒻⓊⓃ ◠ &amp; ◡ ⒻⓇⒾⒺⓃⒹⓁⓎ ℛready ➁ please Call - (Manhattan, New York, NY, USA )', \"S·T·O·P✋↬👀🔍L00K 💋☑#☝Provider 👅☑ⓣⓐⓛⓔⓝⓣⓔⓓ👍 💕☑δe∂uctive 🔥☑A∂∂ictive ✧☑I'm Ready➜ⓝⓞ - (Manhattan, New York, NY, USA )\", '▂▃▄▅▆▇█👠most ✿✿erotic✿✿ᒪᗩtiᑎᗩS &amp; ᗩSiᗩᑎS █▇▆▅▄▃▂▁ 💲 specials all night 💲⎝ ◕ ‿ ◕ � - (Manhattan, New York, NY, USA $99 SPECIAL )', '📸 📽💲🔴WORK IN ADULT FILMS🔴💲🎥 🎬 No Experience, All Types, Sizes, Races, &amp; Ages (18+) - 🌐 - ❌❌❌ - (USA )', 'Sensual body rub, mutual touching 646-460-3040 downtown Manhattan - (Downtown Manhattan )', '🍀 ✴️❤🚺  ALL NEW ASIAN LADIES 💛✴️❤🚺💛 💛 YOUNG GRIL💛✴️❤🚺💛 💛✴️❤GOOD MASSAGE ❤🚺❤🚺631-563-01 - (62 South Main Street, Sayville, NY, USA )', 'SEXY BUSTY  🌺BLOND ✨34DD🌺 natural 🍒_sensual _relaxing _body rub in call white plans - (White Plains, Westchester, NY, USA )', '🦋24hrs🦋🦋🦋🦋An ELEGANT🦋UPSCALE🦋PRIVATE🦋SENSUAL BODYRUB YOU DESERVE🦋w/Gorgeous Fashion Model💦UltraRefreshing Organic AquaGe - (Queens, NY, USA )', '❤️❤️Asia ❤️❤️Japan ❤️❤️❤️Brooklyn❤️❤️❤️9176407312❤️❤️Korea ❤️Phone 9294339992 - (814 47st brooklyn  )', 'Viviana feel free to book an appointment at : 917-310-0591. Av on midt west. 917-310-0591 - (Midtown West, Manhattan, New York, NY, USA )', 'SEXY BUSTY 🍒🌺BLOND ✨🍒amazing curves 🌺ALL NATURAL  ✨🌺🍒erotic Body rub 🍒✨ - (White Plains, NY, USA )', '⎝ ◕ ‿ ◕ ⎠▂▃▄▅▆▇█ ᏒᎬaᏞ &amp; ♡ ❣ᏒᎬadᎽ°•°☆°•° aᏞᏞ yoᏌ ᏁᎬᎬᎠ°•°♡°✿✿ █▇▆▅▄ - (Manhattan, New York, NY, USA $99 SPECIAL )', '💆🏼\\u200d♂️ Asian Transgender Outcalls Massage 3479917619  - (Manhattan, New York, NY, USA )', '★★🍀Dinner time rapidito, ★🔥★ todo rico🍀morning erotica ★🍀★or luchtime ★★ quickies ★🔥★ all delicious ★🔥★ - (Manhattan, New York, NY, USA )', '⎝ ◕ ‿ ◕ ⎠⭐️▬no rushing▬▬▬ ⭐️tons of fun⭐️⎝ ◕ ‿ ◕ ⎠\\t - (Manhattan, New York, NY, USA )', '💞💞💞💞💞Exotic Asian Girls, 22 years old, 24/7, Outcall  💞💞💞💞💞 - (Long Island City, Queens, NY, USA )', 'Midtown ❌⭕️❌⭕️❌⭕️ 4 hands $70  ☎️917-833-4815⭕️❌⭕️❌⭕️❌ BEAUTIFUL ASIAN GIRLS AMAZING⭕️❌⭕️❌⭕️� - (E 32nd St bt 5th and Madison ave )')\n"
     ]
    }
   ],
   "source": [
    "j=0\n",
    "for i in mydivs:\n",
    "    temp = str(mydivs[j])\n",
    "    temp = temp.split('target=\"_blank\">')[1]\n",
    "    temp = temp.split('</b>\\n</a>\\n</div>')[0]\n",
    "    temp = ''.join(temp.strip()\n",
    "             .replace('<b>', ''))\n",
    "    title_array.append(temp)\n",
    "    j+=1\n",
    "title_w_all_emoji = tuple(title_array)\n",
    "print(title_w_all_emoji)\n"
   ]
  },
  {
   "cell_type": "markdown",
   "metadata": {},
   "source": [
    "## Extracting non-factor emojis\n",
    "- use title_array to further strip down tites to exclude non-factor emojis"
   ]
  },
  {
   "cell_type": "code",
   "execution_count": 63,
   "metadata": {},
   "outputs": [
    {
     "name": "stdout",
     "output_type": "stream",
     "text": [
      "OPEN 10AM - Midnight.....?️..NEW ..️?............... .call ️ @ 646-255-5931 ️ ..........Nice Body Work from NEW GIRLS..........100 - (Queens, NY, USA )mmmm99SPCLZKorean ßombshεℓℓ NyMphO deep thrOat️✈️ Avαiℓαbℓe ⓝⓞⓦ️ AMAZING skills  - (Manhattan, New York, NY, USA )mmmmYoung Ts TITA. ... - (Bay Ridge, Brooklyn, NY, USA )mmmm️Nuru massage outcall ️917-266-0091 - (New York, NY, USA )mmmmShelly here hosting Swed amer w /perky  friendly mature sensual pampering  Incall   - (Upper West Side, Manhattan, New York, NY, USA )mmmm*****Rub Boutique seeking American Girls/Indian Girls Great pay, no experience necessary 400+/day****** - (Long Island, New York, USA )mmmmGretchen the Goddess of Punishment - (Brooklyn, NY, USA )mmmmSEXY busty blonde 34 DD NATURAL SENSUAL 🍒very🍒 RELAXING bodywork 646_687_6342, - (White Plains, NY, USA )mmmm★★ Therapeutic Touch Therapy With Professional Cuddle Buddies + Travel Companions ★★ - (United States )mmmm TANTRIC  Relaxation  by Victoria  - (White Plains, NY, USA )mmmm ️  ALL NEW ASIAN LADIES 💛️💛 💛 YOUNG GRIL💛 💛️GOOD MASSAGE   (631) 563-0120 - (62 South Main Street, Sayville, NY, USA )mmmmLatina girls Erotic  bodyrub with Young  girl  will make you happy 516-667-4907 Mineola NY - (Mineola, NY, USA )mmmmBest good massage hot Latina 914.327.9068 - (Bronx, NY, USA )mmmmSENSATIONAL  TOCH   INCALL AND OUTCALL - (Astoria Boulevard, Astoria, NY, USA )mmmmEuropean Hottie  🍒LISSETE 🍒gorgeous Blond 🍒Sensual Upscale bodywork  - (White Plains, NY, USA )mmmm️️Asia ️️Japan ️9176407312  ️  Brooklyn   ️Korea ️Phone 9294339992 - (814 47th Street,Brooklyn  )mmmm🏻‍️Thai massage and Swedish combination  - (Manhattan, New York, NY, USA )mmmmViviana feel free to book an appointment at : 917-310-0591. Av on midt west. 917-310-0591 - (Midtown West, Manhattan, New York, NY, USA )mmmmSexy BUSTY BLOND 36D natural sensual body rub  in call 🍒 - (White Plains, Westchester, NY, USA )mmmmHot Jessica  Nuru Goddess...  - (SoHo, Manhattan, NY, New York, USA )mmmm🌸Brazilian and Middle Eastern Sophia🌸 2013400730 Best sensual touch ever - (Astoria, Queens, NY, USA )mmmmRise to The Occasion - Rosanna's Real Massage! - (Upper West Side, Manhattan, New York, NY, USA )mmmm️BODYWORK By EVE️ Tantric NUDE MassageMutual TOUCH️Ava 10-8pmPrivate Incall️ - (Union Turnpike - Kew Gardens Sta, Queens, NY, USA )mmmmExotic Asian Girls, 22 years old, 24/7, Outcall   - (Long Island City, Queens, NY, USA )mmmm99SPCLZKorean ßombshεℓℓ NyMphO deep thrOat️✈️ Avαiℓαbℓe ⓝⓞⓦ️ AMAZING skills  - (Manhattan, New York, NY, USA )mmmmSlim THICK with a NICE LIL FAT ASSTight Wet KITTYMesmerizingCurvz Impeccable Skilz - (Manhattan, New York, NY, USA )mmmmBlonde Bombshell Riley here to tease and please you tonight ;) - (Midtown East, Manhattan, New York, NY, USA )mmmm⎝ ◕ ‿ ◕ ⎠σиℓʏ ғσя ʏσʋ ραρι️🅽🅻🆈◄ ▲🆁🅴🅻 ► ▼🅸🅲🆂¸✿乂◕‿◕乂ⓗⓞ - (Manhattan, New York, NY, USA $99 SPECIAL )mmmmTHE ROYAL TREATMENT aka \"Cream de la Cream\" by Nurse Pearl -  Lovely Black Nurse 212.353.8817 - (East 23rd Street, Manhattan, New York, NY, USA )mmmm NEW GIRLS TODAY ▃ Beautifully G▃ I▃R▃L▃S▃YOUNG  (646) 982-7144 - (4030 149th Street, Flushing, NYC, ????? )mmmmGuen here with a gentle touch. 6314611818 Holbrook - (Holbrook, NY, USA )mmmmOutcall Massage by CMT Natalia ***** Available Now ****** - (New York, NY, USA )mmmmSensual body rub, Forest hills - (Forest Hills, Queens, NY, USA )mmmmReaL Pictures American girl &amp;  Latina Girls Erotic  bodyrub with Young girl  4 hands available  will make you happy 516-667-4907Mi - (Mineola, NY, USA )mmmmErotic bodyrub 160$ - (Forest Hills, Queens, NY, USA )mmmm️ Grand Open💗💗 YOUNG GRIL ️️️ NICE GRIL 24HOURS     (929) 234-9365 - (6324 Bay Ridge Parkway, Brooklyn, NY, USA )mmmm_______________ _____________N_ __U___R_ U_____ __E__U___R___O_ __________G__ I__R___L___ S ___ ___ - (Midtown East, Manhattan, New York, NY, USA )mmmmTHAI MASSAGE 6465992443 - (Midtown, Manhattan, New York, NY, USA )mmmmMeet ZOE! All Natural DDD Curvy Stunner Zoe Available Now The Ultimate Sensual Escape - (Midtown East, Manhattan, New York, NY, USA )mmmmEuropean &amp; Latina girls    bodyrub with Young girl  4 hands available will make you happy 516-667-4907Mineola NY - (Mineola, NY, USA )mmmmCurvy Busty College Babe Sensual BodyRubsPrivate Studio - (Williamsburg, Brooklyn, NY, USA )mmmm️️️European Bodyrub from Alyssa️️ - (New York, NY, USA )mmmm️️VERY NICE GRILS️️Cool Room️️3Girls Young  (929) 264-1801 - (740 East Jericho Turnpike, Huntington Station, NY, USA )mmmmRoyal Relaxation with Angelique Laroux 424-835-1620 - (Valley Stream, NY, USA )mmmmBlonde Curvy DDD Knockout Hailey Is Back And To New Area ! Available Now !  - (Manhattan, New York, NY, USA )mmmmRise to The Occasion - Rosanna's Real Massage! - (Upper West Side, Manhattan, New York, NY, USA )mmmm‍️‍️‍️MASSAGE FEELS SO GOOD 🍒🍒 - (Manhattan, New York, NY, USA )mmmm️BODYWORK By EVE️ Tantric NUDE MassageMutual TOUCH️Ava 10-8pmPrivate Incall️ - (Union Turnpike - Kew Gardens Sta, Queens, NY, USA )mmmmAll Natural bombshell Available Now For Upscale NUDE Body rub  - (E 33rd St, New York, NY, USA )mmmm️️Asia ️️Japan ️9176407312 ️️Korea ️Phone 9294339992 - (814 47th Brooklyn  )mmmm🌹 Independent OutCall Therapeutic Bodywork at Your Hotel/Apt by All-American Lady 🌹 ********** PLEASE TEXT ME AT - 646-715-6805  - (New York, Manhattan, NY, USA )mmmmBLACK JAMAICAN GODDESS 3473772169 DOMINATION FETISH PLAY &amp; BODYRUBS - (Sunset Park Brooklyn )mmmm🏻‍️Thai massage and Swedish combination  - (Manhattan, New York, NY, USA )mmmmExotic Asian Girls, 22 years old, 24/7, Outcall   - (Long Island City, Queens, NY, USA )mmmmHi Hi! Come Enjoy a Massage from Brazilian TS in Brooklyn ️ Exotic BEAUTY - (Brooklyn, NY, USA )mmmmViviana feel free to book an appointment at : 917-310-0591. Av on midt west. 917-310-0591 - (Midtown West, Manhattan, New York, NY, USA )mmmm️️VERY NICE GRILS️️Cool Room️️3Girls Young  (929) 264-1801 - (740 East Jericho Turnpike, Huntington Station, NY, USA )mmmmSlim THICK with a NICE LIL FAT ASSTight Wet KITTYMesmerizingCurvz Impeccable Skilz - (Manhattan, New York, NY, USA )mmmmReaL Pictures  Latina GirsErotic  bodyrub with Young girl  4 hands available  will make you happy 516 -667-4907 Mineola NY - (Mineola, NY, USA )mmmm99SPCLZKorean ßombshεℓℓ NyMphO deep thrOat️✈️ Avαiℓαbℓe ⓝⓞⓦ️ AMAZING skills  - (Manhattan, New York, NY, USA )mmmm👑🍒ƁєαυтιƒυℓAsian ƐƳƐ Ƈαη∂у ƬOρ-ƝOƬcн %ⓇⒺⒶⓁ🍒WETTER ANd BeTTer� - (Manhattan, New York, NY, USA )mmmm NEW GIRLS TODAY ▃ Beautifully G▃ I▃R▃L▃S▃YOUNG  (646) 982-7144 - (4030 149th Pl, Flushing, NYC, ????? )mmmm▂▃▄▅▆▇█most ✿✿erotic✿✿ᒪᗩtiᑎᗩS &amp; ᗩSiᗩᑎS █▇▆▅▄▃▂▁  specials all night ⎝ ◕ ‿ ◕ � - (Manhattan, New York, NY, USA $99 SPECIAL )mmmmTrue Bliss of the City, Only the Best Outcall Massage with Stacey ️ - (New York, NY, USA )mmmm ️  ALL NEW ASIAN LADIES 💛️💛 💛 YOUNG GRIL💛️GOOD MASSAGE   (631) 563-0120 - (62 South Main Street, Sayville, NY, USA )mmmmCutie MoMoEdging/ Fetish/ Tantric Massage/Outcall /Incall - (Midtown East, Manhattan, New York, NY, USA )mmmm▉▉▉▉▉▉▉▉ Grand opening  NEW here▉▉▉▉▉▉ yuong hot ▉▉▉▉   Magical experience, you deserve a try  - (Main St Station, ???????? )mmmm█████████████🄡🄔🄐🄛🄌🄌🄌🄌pic 🄌🄌🄌🄌Yuong ℋot ℙerrty 3479252701 ️💛� - (Flushing, ???????? )mmmm🏻‍️Thai massage and Swedish combination  - (Manhattan, New York, NY, USA )mmmmHot Sexy Latinas  BIG JuICy Bty or HuGe B (*)(*)Bs...COME SEE US. CALL NOW 929 337 3329! - (Cross Island Parkway, Bellerose, NY, USA )mmmmSensual body rub, mutual touching 646-460-3040 Forest Hills, Queens - (Forest Hills, Queens, NY, USA )mmmm TANTRIC  Relaxation  by Victoria  - (White Plains, NY, USA )mmmmM4M BODYWORK FOR THE ADVENTUROUS BI-BICURIOUS Discreet sessions TEXT below - (Manhattan, New York, NY, USA )mmmmRise to The Occasion - Rosanna's Real Massage! - (Upper West Side, Manhattan, New York, NY, USA )mmmm🏻‍️Thai massage and Swedish combination  - (Manhattan, New York, NY, USA )mmmm🍒MASSAGE IS SO GOOD FOR YOU... - (Manhattan, New York, NY, USA )mmmm🏼‍️ Transgender Outcalls Massage 3479917619  - (Manhattan, New York, NY, USA )mmmmAll Natural bombshell Available Now For Upscale NUDE Body rub  - (E 33rd St, New York, NY, USA )mmmm️BODYWORK By EVE️ Tantric NUDE MassageMutual TOUCH️Ava 10-8pmPrivate Incall️ - (Union Turnpike - Kew Gardens Sta, Queens, NY, USA )mmmmBusty sweet New York native here for a fun naughty time in the MurrayHill area  - (Manhattan, New York, NY, USA )mmmm‍️‍️‍️MASSAGE FEELS SO GOOD 🍒🍒 - (Manhattan, New York, NY, USA )mmmmExotic Asian Girls, 22 years old, 24/7, Outcall   - (Long Island City, Queens, NY, USA )mmmmViviana feel free to book an appointment at : 917-310-0591. Av on midt west. 917-310-0591 - (Midtown West, Manhattan, New York, NY, USA )mmmmVIVI real latin beauty . MANHATTAN 9293305970 OUTCALL ONLY - (Midtown West, Manhattan, New York, NY, USA )mmmmWall str The newest to FIDI! Long legged green eyed blond  - (Wall Street, New York, NY, USA )mmmm️️Asia ️️Japan ️️️Brooklyn️️️9176407312️️Korea ️Phone 9294339992 - (814 47st brooklyn  )mmmm️️INcall ️Brooklyn️️9176407312️️Asia ️️Japan ️️Korea ️Phone 9294339992 - (814 47st Brooklyn  )mmmm️️VERY NICE GRILS️️Cool Room️️3Girls Young  (929) 264-1801 - (740 East Jericho Turnpike, Huntington Station, NY, USA )mmmm NEW GIRLS TODAY ▃ Beautifully G▃ I▃R▃L▃S▃YOUNG▃646-982-7144  - (4030 149th Street, Flushing, NY, ????? )mmmm ️  ALL NEW ASIAN LADIES 💛️💛 💛 YOUNG GRIL💛️️GOOD MASSAGE 631-563-0120💛 💛️ - (62 South Main Street, Sayville, NY, USA )mmmmViviana feel free to book an appointment at : 917-310-0591. Av on midt west. 917-310-0591 - (Midtown West, Manhattan, New York, NY, USA )mmmm👑🍒ƁєαυтιƒυℓAsian ƐƳƐ Ƈαη∂у ƬOρ-ƝOƬcн %ⓇⒺⒶⓁ🍒WETTER ANd BeTTer� - (Manhattan, New York, NY, USA )mmmm99SPCLZKorean ßombshεℓℓ NyMphO deep thrOat️✈️ Avαiℓαbℓe ⓝⓞⓦ️ AMAZING skills  - (Manhattan, New York, NY, USA )mmmmCum Get A  Sensual body rub with your  favorite Dominican SKy - (New York, NY, USA )mmmm⎝ ◕ ‿ ◕ ⎠σиℓʏ ғσя ʏσʋ ραρι️🅽🅻🆈◄ ▲🆁🅴🅻 ► ▼🅸🅲🆂¸✿乂◕‿◕乂ⓗⓞ - (Manhattan, New York, NY, USA )mmmm ️  ALL NEW ASIAN LADIES 💛️💛 💛 YOUNG GRIL💛️💛 💛️GOOD MASSAGE 631-563-01 - (62 South Main Street, Sayville, NY, USA )mmmmAll Natural bombshell Available Now For Upscale NUDE Body rub  - (E 33rd St, New York, NY, USA )mmmmRoyal Relaxation with Angelique Laroux - (Valley Stream, Near Green Acres Mall )mmmmDo You Need Massage With*  Ts* - (Bay Ridge, Brooklyn, NY, USA )mmmmExotic Asian Girls, 22 years old, 24/7, Outcall   - (Long Island City, Queens, NY, USA )mmmm️BODYWORK By EVE️ Tantric NUDE MassageMutual TOUCH️Ava 10-8pmPrivate Incall️ - (Union Turnpike - Kew Gardens Sta, Queens, NY, USA )mmmmHot Jessica  Nuru Goddess...  - (Manhattan, New York, NY, USA )mmmm🍒MASSAGE IS SO GOOD FOR YOU... - (Manhattan, New York, NY, USA )mmmm‍️‍️‍️MASSAGE FEELS SO GOOD 🍒🍒 - (Manhattan, New York, NY, USA )mmmm🏼‍️ Transgender Outcalls Massage 3479917619  - (Manhattan, New York, NY, USA )mmmmAll Natural bombshell Available Now For Upscale NUDE Body rub  - (E 33rd St, New York, NY, USA )mmmm🌹 Out-Call Therapeutic Bodywork at Your Hotel or Apt by All-American Lady 🌹 ********** PLEASE TEXT ME AT - 646-715-6805  - (Manhattan, New York, NY, USA )mmmmHi Hi! Come Enjoy a Massage from Brazilian TS in Brooklyn ️ Exotic BEAUTY - (Brooklyn, NY, USA )mmmmVIVI real latin beauty . MANHATTAN 9293305970 OUTCALL ONLY - (Midtown West, Manhattan, New York, NY, USA )mmmm️️VERY NICE GRILS️️Cool Room️️3Girls Young  (929) 264-1801 - (740 East Jericho Turnpike, Huntington Station, NY, USA )mmmmLatina Girl Erotic  bodyrub with Young girl 4 hands available will make you happy 516-667-4907 Mineola NY - (Mineola, NY, USA )mmmmThai massage  Relaxation session  9174344185 Outcall available  Sw - (Midtown, Manhattan, New York, NY, USA )mmmm99SPCLZKorean ßombshεℓℓ NyMphO deep thrOat️✈️ Avαiℓαbℓe ⓝⓞⓦ️ AMAZING skills  - (Manhattan, New York, NY, USA )mmmm👑🍒ƁєαυтιƒυℓAsian ƐƳƐ Ƈαη∂у ƬOρ-ƝOƬcн %ⓇⒺⒶⓁ🍒WETTER ANd BeTTer� - (Manhattan, New York, NY, USA )mmmm▂▃▄▅▆▇█most ✿✿erotic✿✿ᒪᗩtiᑎᗩS &amp; ᗩSiᗩᑎS █▇▆▅▄▃▂▁  specials all night ⎝ ◕ ‿ ◕ � - (Manhattan, New York, NY, USA $99 SPECIAL )mmmm️BODYWORK By EVE️ Tantric NUDE MassageMutual TOUCH️Ava 10-8pmPrivate Incall️ - (Union Turnpike - Kew Gardens Sta, Queens, NY, USA )mmmm Excellent Thai massage Full body touch The best service EVER!!! 646-925-0602️ - (Midtown Manhattan  )mmmmBUSTY BLOND 36DD Natural sensual and RELAXING body rub  - (White Plains, NY, USA )mmmm‍️‍️‍️MASSAGE FEELS SO GOOD 🍒🍒 - (Manhattan, New York, NY, USA )mmmm24hrsAn ELEGANTUPSCALEPRIVATESENSUAL BODYRUB YOU DESERVEw/Gorgeous Fashion ModelUltraRefreshing Organic AquaGe - (Queens, NY, USA )mmmm🏼‍️ Asian Transgender Outcalls Massage 3479917619  - (Manhattan, New York, NY, USA )mmmmAll Natural bombshell Available Now For Upscale NUDE Body rub  - (E 33rd St, New York, NY, USA )mmmmSultry Seductive Madison! - (Upper East Side, Manhattan, New York, NY, USA )mmmm🍒MASSAGE IS SO GOOD FOR YOU... - (Manhattan, New York, NY, USA )mmmmHot Jessica  Nuru Goddess.. - (Manhattan, New York, NY, USA )mmmm🏼‍️ Transgender Outcalls Massage 3479917619  - (Manhattan, New York, NY, USA )mmmmVIVI real latin beauty . MANHATTAN 9293305970 OUTCALL ONLY - (Midtown West, Manhattan, New York, NY, USA )mmmm️️️ Grand Open💗💗💗 YOUNG GRIL ️NICE GRIL 24HOURS   :929-234-9365 - (6324 Bay Ridge Parkway, Brooklyn, NYC, USA )mmmm NEW GIRLS TODAY ▃ Beautifully G▃ I▃R▃L▃S▃YOUNG▃646-982-7144  - (4030 149th Pl, Flushing, NYC, ????? )mmmm ️  ALL NEW ASIAN LADIES 💛️💛 💛 YOUNG GRIL💛️💛 💛️GOOD MASSAGE 631-563-01 - (62 South Main Street, Sayville, NY, USA )mmmmGREAD OPEN SEXYYOUNG️Asian MassageAsian Doll 929-264-1801 - (740 East Jericho Turnpike, Huntington Station, NY, USA )mmmmMidtown ️️️ 4 hands $70  ️917-833-4815️️️ BEAUTIFUL ASIAN GIRLS AMAZING️️️� - (East 32nd Street, New York, NY, USA )mmmm99SPCLZKorean ßombshεℓℓ NyMphO deep thrOat️✈️ Avαiℓαbℓe ⓝⓞⓦ️ AMAZING skills  - (Manhattan, New York, NY, USA )mmmmMAGIC HANDS  SENSUAL BODY RUB    INCALL AND OUTCALL   - (Astoria, Queens, NY, USA )mmmm👑🍒ƁєαυтιƒυℓAsian ƐƳƐ Ƈαη∂у ƬOρ-ƝOƬcн %ⓇⒺⒶⓁ🍒WETTER ANd BeTTer� - (Manhattan, New York, NY, USA )mmmmHot Sexy latina BIG JuIcY  Bty!! COME SEE ME Now!!.. CALL 929 337 3329 - (Cross Island Parkway, Bellerose, NY, USA )mmmm⎝ ◕ ‿ ◕ ⎠σиℓʏ ғσя ʏσʋ ραρι️🅽🅻🆈◄ ▲🆁🅴🅻 ► ▼🅸🅲🆂¸✿乂◕‿◕乂ⓗⓞ - (Manhattan, New York, NY, USA $99 SPECIAL )mmmmGREAD OPEN SEXYYOUNG️Asian MassageAsian Doll 929-264-1801 - (740 East Jericho Turnpike, Huntington Station, NY, USA )mmmmHi Hi! Come Enjoy a Massage from Brazilian TS in Brooklyn ️ Exotic BEAUTY - (Brooklyn, NY, USA )mmmm‍️‍️‍️MASSAGE FEELS SO GOOD 🍒🍒 - (Manhattan, New York, NY, USA )mmmm24hrsAn ELEGANTUPSCALEPRIVATESENSUAL BODYRUB YOU DESERVEw/Gorgeous Fashion ModelUltraRefreshing Organic AquaGe - (Queens, NY, USA )mmmm🍒MASSAGE IS SO GOOD FOR YOU... - (Manhattan, New York, NY, USA )mmmmHot Jessica  Nuru Goddess.. - (Manhattan, New York, NY, USA )mmmm🏼‍️ Asian Transgender Outcalls Massage 3479917619  - (Manhattan, New York, NY, USA )mmmmExotic Asian Girls, 22 years old, 24/7, Outcall   - (Long Island City, Queens, NY, USA )mmmm🏼‍️ Transgender Outcalls Massage 3479917619  - (Manhattan, New York, NY, USA )mmmmVIVI real latin beauty . MANHATTAN 9293305970 OUTCALL ONLY - (Midtown West, Manhattan, New York, NY, USA )mmmmBest hot Latina good massage best time 914.327.9068 - (Bronx, NY, USA )mmmmPretty woman. Only Outcall.  - (Brooklyn, NY, USA )mmmm🍒MASSAGE IS SO GOOD FOR YOU... - (Manhattan, New York, NY, USA )mmmm🏼‍️ Transgender Outcalls Massage 3479917619  - (Manhattan, New York, NY, USA )mmmmGrand Open💗💗 YOUNG GRIL ️24HOURS️ NICE GRIL   CALL  :929-234-9365 - (6324 Bay Ridge Parkway, Brooklyn, NYC, USA )mmmmErotic bodyrub 160$ - (Forest Hills, Queens, NY, USA )mmmmSexy and Sweet  DDD Goddess Hailey  is here to Tease and Please you! Available Now For Sunday Fun !! - (Midtown East, Manhattan, New York, NY, USA )mmmm ️  ALL NEW ASIAN LADIES 💛️💛 💛 YOUNG GRIL💛️💛 💛️GOOD MASSAGE 631-563-01 - (62 South Main Street, Sayville, NY, USA )mmmmGREAD OPEN SEXYYOUNG️Asian MassageAsian Doll 929-264-1801 - (740 East Jericho Turnpike, Huntington Station, NY, USA )mmmmHot Jessica  Nuru Goddess.. - (Midtown, Manhattan, NY, New York, USA )mmmm🏼‍️ Asian Transgender Outcalls Massage 3479917619  - (Manhattan, New York, NY, USA )mmmmVIVI real latin beauty . MANHATTAN 9293305970 OUTCALL ONLY - (Midtown West, Manhattan, New York, NY, USA )mmmm24hrsAn ELEGANTUPSCALEPRIVATESENSUAL BODYRUB YOU DESERVEw/Gorgeous Fashion ModelUltraRefreshing Organic AquaGe - (Queens, NY, USA )mmmmExotic Asian Girls, 22 years old, 24/7, Outcall   - (Long Island City, Queens, NY, USA )mmmmAVẠłŁẠBŁẸ ₦Ø₩ №.➀ SEXIEST ASIAN MILF AROUND ■■ ⒻⓊⓃ ◠ &amp; ◡ ⒻⓇⒾⒺⓃⒹⓁⓎ ℛready ➁ please Call - (Manhattan, New York, NY, USA )mmmmS·T·O·P↬L00K #Provider ⓣⓐⓛⓔⓝⓣⓔⓓ δe∂uctive A∂∂ictive ✧I'm Ready➜ⓝⓞ - (Manhattan, New York, NY, USA )mmmm▂▃▄▅▆▇█most ✿✿erotic✿✿ᒪᗩtiᑎᗩS &amp; ᗩSiᗩᑎS █▇▆▅▄▃▂▁  specials all night ⎝ ◕ ‿ ◕ � - (Manhattan, New York, NY, USA $99 SPECIAL )mmmm WORK IN ADULT FILMS  No Experience, All Types, Sizes, Races, &amp; Ages (18+) -  -  - (USA )mmmmSensual body rub, mutual touching 646-460-3040 downtown Manhattan - (Downtown Manhattan )mmmm ️  ALL NEW ASIAN LADIES 💛️💛 💛 YOUNG GRIL💛️💛 💛️GOOD MASSAGE 631-563-01 - (62 South Main Street, Sayville, NY, USA )mmmmSEXY BUSTY  BLOND 34DD natural 🍒_sensual _relaxing _body rub in call white plans - (White Plains, Westchester, NY, USA )mmmm24hrsAn ELEGANTUPSCALEPRIVATESENSUAL BODYRUB YOU DESERVEw/Gorgeous Fashion ModelUltraRefreshing Organic AquaGe - (Queens, NY, USA )mmmm️️Asia ️️Japan ️️️Brooklyn️️️9176407312️️Korea ️Phone 9294339992 - (814 47st brooklyn  )mmmmViviana feel free to book an appointment at : 917-310-0591. Av on midt west. 917-310-0591 - (Midtown West, Manhattan, New York, NY, USA )mmmmSEXY BUSTY 🍒BLOND 🍒amazing curves ALL NATURAL  🍒erotic Body rub 🍒 - (White Plains, NY, USA )mmmm⎝ ◕ ‿ ◕ ⎠▂▃▄▅▆▇█ ᏒᎬaᏞ &amp; ♡ ᏒᎬadᎽ°•°☆°•° aᏞᏞ yoᏌ ᏁᎬᎬᎠ°•°♡°✿✿ █▇▆▅▄ - (Manhattan, New York, NY, USA $99 SPECIAL )mmmm🏼‍️ Asian Transgender Outcalls Massage 3479917619  - (Manhattan, New York, NY, USA )mmmm★★Dinner time rapidito, ★★ todo ricomorning erotica ★★or luchtime ★★ quickies ★★ all delicious ★★ - (Manhattan, New York, NY, USA )mmmm⎝ ◕ ‿ ◕ ⎠️▬no rushing▬▬▬ ️tons of fun️⎝ ◕ ‿ ◕ ⎠\t - (Manhattan, New York, NY, USA )mmmmExotic Asian Girls, 22 years old, 24/7, Outcall   - (Long Island City, Queens, NY, USA )mmmmMidtown ️️️ 4 hands $70  ️917-833-4815️️️ BEAUTIFUL ASIAN GIRLS AMAZING️️️� - (E 32nd St bt 5th and Madison ave )mmmm\n"
     ]
    }
   ],
   "source": [
    "data_without_useless_emoji = \"\"\n",
    "#type(title_array) returns list\n",
    "for i in range(len(title_array)):\n",
    "    \n",
    "    string_title = ''.join(title_array[i]) + 'mmmm'\n",
    "    #string_title is string \n",
    "    for c in string_title:\n",
    "        if c not in data2:\n",
    "            data_without_useless_emoji += c\n",
    "         #if c in emoji.UNICODE_EMOJI and c not in emoji_list:\n",
    "             #print(c)\n",
    "             #data_without_useless_emoji = string_title.replace(c,\"\")\n",
    "             #data_without_useless_emoji = re.sub(c, '', string_title)\n",
    "\n",
    "# for c in title_array:\n",
    "#     if c not in data2:\n",
    "#         data_without_useless_emoji += c\n",
    "        \n",
    "print (data_without_useless_emoji)\n",
    "        "
   ]
  },
  {
   "cell_type": "code",
   "execution_count": 31,
   "metadata": {},
   "outputs": [],
   "source": [
    "# #def remove_useless_emoji(data):\n",
    "#  #   data_without_useless_emoji = []\n",
    "     \n",
    "#     for c in data :\n",
    "#         if c in emoji.UNICODE_EMOJI and c not in emoji_list :\n",
    "#             print (c)\n",
    "#             data_without_useless_emoji=data#.replace(c, \"\")\n",
    "            \n",
    "#     return data_without_useless_emoji\n",
    "    \n",
    "#     # return ''.join(c for c in data if c in emoji.UNICODE_EMOJI and c in emoji_list)\n",
    "\n",
    "# remove_useless_emoji(title_array)"
   ]
  },
  {
   "cell_type": "markdown",
   "metadata": {},
   "source": [
    "## Title with no emojis at all\n",
    "- extracting all emojis from title"
   ]
  },
  {
   "cell_type": "code",
   "execution_count": null,
   "metadata": {},
   "outputs": [],
   "source": [
    "type(title_array)"
   ]
  },
  {
   "cell_type": "code",
   "execution_count": null,
   "metadata": {},
   "outputs": [],
   "source": []
  },
  {
   "cell_type": "code",
   "execution_count": null,
   "metadata": {},
   "outputs": [],
   "source": []
  },
  {
   "cell_type": "code",
   "execution_count": null,
   "metadata": {},
   "outputs": [],
   "source": []
  },
  {
   "cell_type": "code",
   "execution_count": null,
   "metadata": {},
   "outputs": [],
   "source": []
  },
  {
   "cell_type": "code",
   "execution_count": null,
   "metadata": {},
   "outputs": [],
   "source": []
  },
  {
   "cell_type": "code",
   "execution_count": null,
   "metadata": {},
   "outputs": [],
   "source": []
  },
  {
   "cell_type": "code",
   "execution_count": null,
   "metadata": {},
   "outputs": [],
   "source": []
  },
  {
   "cell_type": "code",
   "execution_count": null,
   "metadata": {},
   "outputs": [],
   "source": [
    "# # scrape = open(URL_NYC, encoding='utf-16')\n",
    "# print (scrape)"
   ]
  },
  {
   "cell_type": "code",
   "execution_count": null,
   "metadata": {},
   "outputs": [],
   "source": [
    "# from bs4 import BeautifulSoup\n",
    "# scrape = open(URL_NYC, encoding='utf-16')\n",
    "\n",
    "# soup = BeautifulSoup(scrape)"
   ]
  },
  {
   "cell_type": "code",
   "execution_count": null,
   "metadata": {},
   "outputs": [],
   "source": [
    "# import emoji\n",
    "\n",
    "# def extract_emoji(str):\n",
    "#     return ''.join(c for c in str if c in emoji.UNICODE_EMOJI)\n",
    "\n",
    "# extract_emoji('🍒')"
   ]
  },
  {
   "cell_type": "code",
   "execution_count": null,
   "metadata": {},
   "outputs": [],
   "source": []
  },
  {
   "cell_type": "code",
   "execution_count": null,
   "metadata": {},
   "outputs": [],
   "source": []
  },
  {
   "cell_type": "code",
   "execution_count": null,
   "metadata": {},
   "outputs": [],
   "source": []
  },
  {
   "cell_type": "code",
   "execution_count": null,
   "metadata": {},
   "outputs": [],
   "source": []
  },
  {
   "cell_type": "code",
   "execution_count": null,
   "metadata": {},
   "outputs": [],
   "source": []
  },
  {
   "cell_type": "code",
   "execution_count": null,
   "metadata": {},
   "outputs": [],
   "source": []
  },
  {
   "cell_type": "code",
   "execution_count": null,
   "metadata": {},
   "outputs": [],
   "source": []
  },
  {
   "cell_type": "code",
   "execution_count": null,
   "metadata": {},
   "outputs": [],
   "source": []
  },
  {
   "cell_type": "code",
   "execution_count": null,
   "metadata": {},
   "outputs": [],
   "source": []
  },
  {
   "cell_type": "code",
   "execution_count": null,
   "metadata": {},
   "outputs": [],
   "source": [
    "\n",
    "    "
   ]
  },
  {
   "cell_type": "code",
   "execution_count": null,
   "metadata": {},
   "outputs": [],
   "source": []
  },
  {
   "cell_type": "code",
   "execution_count": null,
   "metadata": {},
   "outputs": [],
   "source": []
  }
 ],
 "metadata": {
  "kernelspec": {
   "display_name": "Python 3",
   "language": "python",
   "name": "python3"
  },
  "language_info": {
   "codemirror_mode": {
    "name": "ipython",
    "version": 3
   },
   "file_extension": ".py",
   "mimetype": "text/x-python",
   "name": "python",
   "nbconvert_exporter": "python",
   "pygments_lexer": "ipython3",
   "version": "3.7.0"
  }
 },
 "nbformat": 4,
 "nbformat_minor": 2
}
